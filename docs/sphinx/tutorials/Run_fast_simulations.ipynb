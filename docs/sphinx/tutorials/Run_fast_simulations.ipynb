{
 "cells": [
  {
   "cell_type": "markdown",
   "metadata": {},
   "source": [
    "Run fast simulations with 8760 annual inputs\n",
    "===================================="
   ]
  },
  {
   "cell_type": "markdown",
   "metadata": {},
   "source": [
    "In this section, we will learn how to:\n",
    "\n",
    "- run timeseries simulations with \"fast\" mode and using the ``PVEngine``\n",
    "- run timeseries simulations with \"fast\" mode and using the ``run_timeseries_engine()`` function"
   ]
  },
  {
   "cell_type": "markdown",
   "metadata": {},
   "source": [
    "Imports and settings"
   ]
  },
  {
   "cell_type": "code",
   "execution_count": 1,
   "metadata": {},
   "outputs": [],
   "source": [
    "# Import external libraries\n",
    "import os\n",
    "import numpy as np\n",
    "import matplotlib.pyplot as plt\n",
    "from datetime import datetime\n",
    "import pandas as pd\n",
    "import warnings\n",
    "\n",
    "# Settings\n",
    "%matplotlib inline\n",
    "np.set_printoptions(precision=3, linewidth=300)\n",
    "warnings.filterwarnings('ignore')\n",
    "# Paths\n",
    "LOCAL_DIR = os.getcwd()\n",
    "DATA_DIR = os.path.join(LOCAL_DIR, 'data')\n",
    "filepath = os.path.join(DATA_DIR, 'test_df_inputs_MET_clearsky_tucson.csv')"
   ]
  },
  {
   "cell_type": "markdown",
   "metadata": {},
   "source": [
    "## Overview of \"fast\" mode"
   ]
  },
  {
   "cell_type": "markdown",
   "metadata": {},
   "source": [
    "The fast mode simulation was first introduced in pvfactors v1.0.2. It relies on a mathematical simplification (see Theory section of the documentation) of the problem that assumes that we already know the irradiance incident on all front PV row surfaces and ground surfaces (for instance using the Perez model). In this mode, we therefore only calculate view factors from PV row back surfaces to the other ones assuming that back surfaces don't see each other. This way we do not need to solve a linear system of equations anymore for \"ordered\" PV arrays.  \n",
    "\n",
    "This is an approximation compared to the \"full\" mode, since we're not calculating the impact of the multiple reflections on the PV array surfaces. But the initial results show that it still provides a very reasonable estimate of back surface incident irradiance values."
   ]
  },
  {
   "cell_type": "markdown",
   "metadata": {},
   "source": [
    "## Get timeseries inputs"
   ]
  },
  {
   "cell_type": "code",
   "execution_count": 2,
   "metadata": {},
   "outputs": [],
   "source": [
    "def import_data(fp):\n",
    "    \"\"\"Import 8760 data to run pvfactors simulation\"\"\"\n",
    "    tz = 'US/Arizona'\n",
    "    df = pd.read_csv(fp, index_col=0)\n",
    "    df.index = pd.DatetimeIndex(df.index).tz_convert(tz)\n",
    "    return df\n",
    "\n",
    "df_inputs = import_data(filepath)"
   ]
  },
  {
   "cell_type": "code",
   "execution_count": 3,
   "metadata": {},
   "outputs": [
    {
     "data": {
      "image/png": "[encoded data removed]",
      "text/plain": [
       "<Figure size 864x216 with 3 Axes>"
      ]
     },
     "metadata": {
      "needs_background": "light"
     },
     "output_type": "display_data"
    }
   ],
   "source": [
    "# Plot the data\n",
    "f, (ax1, ax2, ax3) = plt.subplots(1, 3, figsize=(12, 3))\n",
    "df_inputs[['dni', 'dhi']].plot(ax=ax1)\n",
    "df_inputs[['solar_zenith', 'solar_azimuth']].plot(ax=ax2)\n",
    "df_inputs[['surface_tilt', 'surface_azimuth']].plot(ax=ax3)\n",
    "plt.show()"
   ]
  },
  {
   "cell_type": "code",
   "execution_count": 4,
   "metadata": {},
   "outputs": [],
   "source": [
    "# Use a fixed albedo\n",
    "albedo = 0.2"
   ]
  },
  {
   "cell_type": "markdown",
   "metadata": {},
   "source": [
    "## Prepare PV array parameters"
   ]
  },
  {
   "cell_type": "code",
   "execution_count": 5,
   "metadata": {},
   "outputs": [],
   "source": [
    "pvarray_parameters = {\n",
    "    'n_pvrows': 3,            # number of pv rows\n",
    "    'pvrow_height': 1,        # height of pvrows (measured at center / torque tube)\n",
    "    'pvrow_width': 1,         # width of pvrows\n",
    "    'axis_azimuth': 0.,       # azimuth angle of rotation axis\n",
    "    'gcr': 0.4,               # ground coverage ratio\n",
    "}"
   ]
  },
  {
   "cell_type": "markdown",
   "metadata": {},
   "source": [
    "## Run \"fast\" simulations with the PVEngine"
   ]
  },
  {
   "cell_type": "markdown",
   "metadata": {},
   "source": [
    "The ``PVEngine`` can be used to easily run fast mode simulations, using its ``run_fast_mode()`` method.  \n",
    "In order to run the fast mode, the users need to specify which PV row to look at for calculating back surface incident irradiance. The way this is done is by specifying the index of the PV row either at initialiatization, or in the ``run_fast_mode()`` method.  \n",
    "Optionally, a specific segment index can also be passed to the PV Engine to calculate the irradiance only for a segment of a PV row's back surface."
   ]
  },
  {
   "cell_type": "code",
   "execution_count": 6,
   "metadata": {},
   "outputs": [],
   "source": [
    "# Import PVEngine and OrderedPVArray\n",
    "from pvfactors.engine import PVEngine\n",
    "from pvfactors.geometry import OrderedPVArray\n",
    "\n",
    "# Instantiate PV array\n",
    "pvarray = OrderedPVArray.init_from_dict(pvarray_parameters)\n",
    "# Create PV engine, and specify the index of the PV row for fast mode\n",
    "fast_mode_pvrow_index = 1  # look at the middle PV row\n",
    "eng = PVEngine(pvarray, fast_mode_pvrow_index=fast_mode_pvrow_index)\n",
    "\n",
    "# Fit PV engine to the timeseries data\n",
    "eng.fit(df_inputs.index, df_inputs.dni, df_inputs.dhi, \n",
    "        df_inputs.solar_zenith, df_inputs.solar_azimuth, \n",
    "        df_inputs.surface_tilt, df_inputs.surface_azimuth,\n",
    "        albedo)"
   ]
  },
  {
   "cell_type": "markdown",
   "metadata": {},
   "source": [
    "A report function needs to be passed to the ``run_fast_mode()`` method in order to return calculated values.  \n",
    "The report function will need to rely on the pvarray's ``ts_pvrows`` attribute in order to get the calculated outputs."
   ]
  },
  {
   "cell_type": "code",
   "execution_count": 7,
   "metadata": {},
   "outputs": [],
   "source": [
    "# Create a function to build the report: the function will get the total incident irradiance on the back\n",
    "# of the middle PV row\n",
    "def fn_report(pvarray): return {'total_inc_back': (pvarray.ts_pvrows[fast_mode_pvrow_index]\n",
    "                                                  .back.list_segments[0].get_param_weighted('qinc'))}"
   ]
  },
  {
   "cell_type": "code",
   "execution_count": 8,
   "metadata": {},
   "outputs": [],
   "source": [
    "# Run timeseries simulations: the calculation takes about 1 sec to run\n",
    "report = eng.run_fast_mode(fn_build_report=fn_report)"
   ]
  },
  {
   "cell_type": "code",
   "execution_count": 9,
   "metadata": {},
   "outputs": [
    {
     "data": {
      "image/png": "[encoded data removed]",
      "text/plain": [
       "<Figure size 720x216 with 1 Axes>"
      ]
     },
     "metadata": {
      "needs_background": "light"
     },
     "output_type": "display_data"
    }
   ],
   "source": [
    "# make a dataframe out of the report\n",
    "df_report = pd.DataFrame(report, index=df_inputs.index)\n",
    "\n",
    "# and plot the results\n",
    "f, ax = plt.subplots(figsize=(10, 3))\n",
    "df_report.iloc[:72].plot(ax=ax)\n",
    "plt.show()"
   ]
  },
  {
   "cell_type": "markdown",
   "metadata": {},
   "source": [
    "## Run \"fast\" simulations using ``run_timeseries_engine()``"
   ]
  },
  {
   "cell_type": "markdown",
   "metadata": {},
   "source": [
    "The same thing can be done more rapidly using the ``run_timeseries_engine()`` function."
   ]
  },
  {
   "cell_type": "code",
   "execution_count": 10,
   "metadata": {},
   "outputs": [],
   "source": [
    "# Choose center row (index 1) for the fast simulation\n",
    "fast_mode_pvrow_index = 1"
   ]
  },
  {
   "cell_type": "code",
   "execution_count": 11,
   "metadata": {},
   "outputs": [],
   "source": [
    "# Create a function to build the report: the function will get the total incident irradiance on the back\n",
    "# of the middle PV row\n",
    "def fn_report(pvarray): return {'total_inc_back': (pvarray.ts_pvrows[fast_mode_pvrow_index]\n",
    "                                                  .back.list_segments[0].get_param_weighted('qinc'))}"
   ]
  },
  {
   "cell_type": "code",
   "execution_count": 12,
   "metadata": {},
   "outputs": [],
   "source": [
    "# import function to run simulations in parallel\n",
    "from pvfactors.run import run_timeseries_engine\n",
    "\n",
    "# run simulations in parallel mode\n",
    "report = run_timeseries_engine(\n",
    "    fn_report, pvarray_parameters, df_inputs.index, \n",
    "    df_inputs.dni, df_inputs.dhi, \n",
    "    df_inputs.solar_zenith, df_inputs.solar_azimuth, \n",
    "    df_inputs.surface_tilt, df_inputs.surface_azimuth, albedo,\n",
    "    fast_mode_pvrow_index=fast_mode_pvrow_index)  # this will trigger fast mode calculation\n",
    "\n",
    "# make a dataframe out of the report\n",
    "df_report = pd.DataFrame(report, index=df_inputs.index)"
   ]
  },
  {
   "cell_type": "code",
   "execution_count": 13,
   "metadata": {},
   "outputs": [
    {
     "data": {
      "image/png": "[encoded data removed]",
      "text/plain": [
       "<Figure size 720x216 with 1 Axes>"
      ]
     },
     "metadata": {
      "needs_background": "light"
     },
     "output_type": "display_data"
    }
   ],
   "source": [
    "f, ax = plt.subplots(figsize=(10, 3))\n",
    "df_report.iloc[:72].plot(ax=ax)\n",
    "plt.show()"
   ]
  },
  {
   "cell_type": "markdown",
   "metadata": {},
   "source": [
    "The results obtained are strictly identical to when the ``PVEngine`` was used, but it takes a little less code to run a simulation."
   ]
  }
 ],
 "metadata": {
  "hide_input": false,
  "kernelspec": {
   "display_name": "pvfactors_py3",
   "language": "python",
   "name": "pvfactors_py3"
  },
  "language_info": {
   "codemirror_mode": {
    "name": "ipython",
    "version": 3
   },
   "file_extension": ".py",
   "mimetype": "text/x-python",
   "name": "python",
   "nbconvert_exporter": "python",
   "pygments_lexer": "ipython3",
   "version": "3.6.9"
  },
  "toc": {
   "base_numbering": 1,
   "nav_menu": {},
   "number_sections": true,
   "sideBar": true,
   "skip_h1_title": true,
   "title_cell": "Table of Contents",
   "title_sidebar": "Contents",
   "toc_cell": false,
   "toc_position": {
    "height": "calc(100% - 180px)",
    "left": "10px",
    "top": "150px",
    "width": "307.2px"
   },
   "toc_section_display": true,
   "toc_window_display": true
  },
  "varInspector": {
   "cols": {
    "lenName": 16,
    "lenType": 16,
    "lenVar": 40
   },
   "kernels_config": {
    "python": {
     "delete_cmd_postfix": "",
     "delete_cmd_prefix": "del ",
     "library": "var_list.py",
     "varRefreshCmd": "print(var_dic_list())"
    },
    "r": {
     "delete_cmd_postfix": ") ",
     "delete_cmd_prefix": "rm(",
     "library": "var_list.r",
     "varRefreshCmd": "cat(var_dic_list()) "
    }
   },
   "types_to_exclude": [
    "module",
    "function",
    "builtin_function_or_method",
    "instance",
    "_Feature"
   ],
   "window_display": false
  }
 },
 "nbformat": 4,
 "nbformat_minor": 1
}
