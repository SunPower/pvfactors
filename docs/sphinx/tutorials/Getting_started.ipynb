{
 "cells": [
  {
   "cell_type": "markdown",
   "metadata": {},
   "source": [
    "Getting started\n",
    "============"
   ]
  },
  {
   "cell_type": "markdown",
   "metadata": {},
   "source": [
    "This is a quick overview of multiple capabilities of ``pvfactors``:\n",
    "\n",
    "- using the engine to run timeseries simulations\n",
    "- plot a PV array\n",
    "- inspect the results of a simulation using a PV array object\n",
    "- inspect the results of a simulation using a report function"
   ]
  },
  {
   "cell_type": "markdown",
   "metadata": {},
   "source": [
    "Imports and settings"
   ]
  },
  {
   "cell_type": "code",
   "execution_count": 1,
   "metadata": {},
   "outputs": [],
   "source": [
    "# Import external libraries\n",
    "import numpy as np\n",
    "import matplotlib.pyplot as plt\n",
    "from datetime import datetime\n",
    "import pandas as pd\n",
    "\n",
    "# Settings\n",
    "%matplotlib inline\n",
    "np.set_printoptions(precision=3, linewidth=300)"
   ]
  },
  {
   "cell_type": "markdown",
   "metadata": {},
   "source": [
    "### Get timeseries inputs"
   ]
  },
  {
   "cell_type": "code",
   "execution_count": 2,
   "metadata": {},
   "outputs": [
    {
     "data": {
      "text/html": [
       "<div>\n",
       "<style scoped>\n",
       "    .dataframe tbody tr th:only-of-type {\n",
       "        vertical-align: middle;\n",
       "    }\n",
       "\n",
       "    .dataframe tbody tr th {\n",
       "        vertical-align: top;\n",
       "    }\n",
       "\n",
       "    .dataframe thead th {\n",
       "        text-align: right;\n",
       "    }\n",
       "</style>\n",
       "<table border=\"1\" class=\"dataframe\">\n",
       "  <thead>\n",
       "    <tr style=\"text-align: right;\">\n",
       "      <th></th>\n",
       "      <th>solar_zenith</th>\n",
       "      <th>solar_azimuth</th>\n",
       "      <th>surface_tilt</th>\n",
       "      <th>surface_azimuth</th>\n",
       "      <th>dni</th>\n",
       "      <th>dhi</th>\n",
       "      <th>albedo</th>\n",
       "    </tr>\n",
       "  </thead>\n",
       "  <tbody>\n",
       "    <tr>\n",
       "      <th>2017-08-31 11:00:00</th>\n",
       "      <td>20.0</td>\n",
       "      <td>110.0</td>\n",
       "      <td>10.0</td>\n",
       "      <td>90.0</td>\n",
       "      <td>1000.0</td>\n",
       "      <td>50.0</td>\n",
       "      <td>0.2</td>\n",
       "    </tr>\n",
       "    <tr>\n",
       "      <th>2017-08-31 15:00:00</th>\n",
       "      <td>50.0</td>\n",
       "      <td>250.0</td>\n",
       "      <td>20.0</td>\n",
       "      <td>270.0</td>\n",
       "      <td>300.0</td>\n",
       "      <td>500.0</td>\n",
       "      <td>0.2</td>\n",
       "    </tr>\n",
       "  </tbody>\n",
       "</table>\n",
       "</div>"
      ],
      "text/plain": [
       "                     solar_zenith  solar_azimuth  surface_tilt  \\\n",
       "2017-08-31 11:00:00          20.0          110.0          10.0   \n",
       "2017-08-31 15:00:00          50.0          250.0          20.0   \n",
       "\n",
       "                     surface_azimuth     dni    dhi  albedo  \n",
       "2017-08-31 11:00:00             90.0  1000.0   50.0     0.2  \n",
       "2017-08-31 15:00:00            270.0   300.0  500.0     0.2  "
      ]
     },
     "execution_count": 2,
     "metadata": {},
     "output_type": "execute_result"
    }
   ],
   "source": [
    "df_inputs = pd.DataFrame(\n",
    "    {'solar_zenith': [20., 50.],\n",
    "     'solar_azimuth': [110., 250.],\n",
    "     'surface_tilt': [10., 20.],\n",
    "     'surface_azimuth': [90., 270.],\n",
    "     'dni': [1000., 300.],\n",
    "     'dhi': [50., 500.],\n",
    "     'albedo': [0.2, 0.2]}, \n",
    "    index=[datetime(2017, 8, 31, 11), datetime(2017, 8, 31, 15)]\n",
    ")\n",
    "df_inputs"
   ]
  },
  {
   "cell_type": "markdown",
   "metadata": {},
   "source": [
    "### Prepare PV array parameters"
   ]
  },
  {
   "cell_type": "code",
   "execution_count": 3,
   "metadata": {},
   "outputs": [],
   "source": [
    "pvarray_parameters = {\n",
    "    'n_pvrows': 3,            # number of pv rows\n",
    "    'pvrow_height': 1,        # height of pvrows (measured at center / torque tube)\n",
    "    'pvrow_width': 1,         # width of pvrows\n",
    "    'axis_azimuth': 0.,       # azimuth angle of rotation axis\n",
    "    'gcr': 0.4,               # ground coverage ratio\n",
    "    'rho_front_pvrow': 0.01,  # pv row front surface reflectivity\n",
    "    'rho_back_pvrow': 0.03    # pv row back surface reflectivity\n",
    "}"
   ]
  },
  {
   "cell_type": "markdown",
   "metadata": {},
   "source": [
    "### Run simulations with pvfactors"
   ]
  },
  {
   "cell_type": "markdown",
   "metadata": {},
   "source": [
    "Use the ``PVEngine`` and the ``OrderedPVArray`` to run simulations"
   ]
  },
  {
   "cell_type": "code",
   "execution_count": 4,
   "metadata": {},
   "outputs": [],
   "source": [
    "from pvfactors.engine import PVEngine\n",
    "from pvfactors.geometry import OrderedPVArray\n",
    "\n",
    "# Create an ordered PV array\n",
    "pvarray = OrderedPVArray.init_from_dict(pvarray_parameters)\n",
    "# Create engine\n",
    "engine = PVEngine(pvarray)\n",
    "# Fit engine to data\n",
    "engine.fit(df_inputs.index, df_inputs.dni, df_inputs.dhi, \n",
    "           df_inputs.solar_zenith, df_inputs.solar_azimuth, \n",
    "           df_inputs.surface_tilt, df_inputs.surface_azimuth, \n",
    "           df_inputs.albedo)"
   ]
  },
  {
   "cell_type": "markdown",
   "metadata": {},
   "source": [
    "The user can run a simulation for a single timestep and plot the returned PV array"
   ]
  },
  {
   "cell_type": "code",
   "execution_count": 5,
   "metadata": {},
   "outputs": [
    {
     "data": {
      "image/png": "[encoded data removed]",
      "text/plain": [
       "<Figure size 720x216 with 1 Axes>"
      ]
     },
     "metadata": {
      "needs_background": "light"
     },
     "output_type": "display_data"
    }
   ],
   "source": [
    "# Get pvarray at given timestamp\n",
    "pvarray = engine.run_timestep(idx=1)\n",
    "\n",
    "# Plot pvarray shapely geometries\n",
    "f, ax = plt.subplots(figsize=(10, 3))\n",
    "pvarray.plot(ax)\n",
    "plt.show()"
   ]
  },
  {
   "cell_type": "markdown",
   "metadata": {},
   "source": [
    "The user can inspect the results very easily thanks to the simple geometry API"
   ]
  },
  {
   "cell_type": "code",
   "execution_count": 6,
   "metadata": {},
   "outputs": [
    {
     "name": "stdout",
     "output_type": "stream",
     "text": [
      "Incident irradiance on front surface of middle pv row: 811.66 W/m2\n",
      "Reflected irradiance on back surface of left pv row: 90.25 W/m2\n",
      "Isotropic irradiance on back surface of right pv row: 9.28 W/m2\n"
     ]
    }
   ],
   "source": [
    "# Get the calculated outputs from the pv array\n",
    "center_row_front_incident_irradiance = pvarray.pvrows[1].front.get_param_weighted('qinc')\n",
    "left_row_back_reflected_incident_irradiance = pvarray.pvrows[0].back.get_param_weighted('reflection')\n",
    "right_row_back_isotropic_incident_irradiance = pvarray.pvrows[2].back.get_param_weighted('isotropic')\n",
    "\n",
    "print(\"Incident irradiance on front surface of middle pv row: %.2f W/m2\"\n",
    "      % center_row_front_incident_irradiance)\n",
    "print(\"Reflected irradiance on back surface of left pv row: %.2f W/m2\"\n",
    "      % left_row_back_reflected_incident_irradiance)\n",
    "print(\"Isotropic irradiance on back surface of right pv row: %.2f W/m2\"\n",
    "      % right_row_back_isotropic_incident_irradiance)"
   ]
  },
  {
   "cell_type": "markdown",
   "metadata": {},
   "source": [
    "The users can also run simulations for all timestamps, and obtain a \"report\" that is entirely custom-made, and which will rely on the simple geometry API shown above.\n",
    "Here is an example:"
   ]
  },
  {
   "cell_type": "code",
   "execution_count": 7,
   "metadata": {},
   "outputs": [
    {
     "name": "stderr",
     "output_type": "stream",
     "text": [
      "100%|██████████| 2/2 [00:00<00:00, 30.03it/s]\n"
     ]
    },
    {
     "data": {
      "text/html": [
       "<div>\n",
       "<style scoped>\n",
       "    .dataframe tbody tr th:only-of-type {\n",
       "        vertical-align: middle;\n",
       "    }\n",
       "\n",
       "    .dataframe tbody tr th {\n",
       "        vertical-align: top;\n",
       "    }\n",
       "\n",
       "    .dataframe thead th {\n",
       "        text-align: right;\n",
       "    }\n",
       "</style>\n",
       "<table border=\"1\" class=\"dataframe\">\n",
       "  <thead>\n",
       "    <tr style=\"text-align: right;\">\n",
       "      <th></th>\n",
       "      <th>qinc_front</th>\n",
       "      <th>qinc_back</th>\n",
       "      <th>iso_front</th>\n",
       "      <th>iso_back</th>\n",
       "    </tr>\n",
       "  </thead>\n",
       "  <tbody>\n",
       "    <tr>\n",
       "      <th>2017-08-31 11:00:00</th>\n",
       "      <td>1034.967753</td>\n",
       "      <td>106.627832</td>\n",
       "      <td>20.848345</td>\n",
       "      <td>0.115792</td>\n",
       "    </tr>\n",
       "    <tr>\n",
       "      <th>2017-08-31 15:00:00</th>\n",
       "      <td>811.659036</td>\n",
       "      <td>85.535537</td>\n",
       "      <td>276.181750</td>\n",
       "      <td>6.304878</td>\n",
       "    </tr>\n",
       "  </tbody>\n",
       "</table>\n",
       "</div>"
      ],
      "text/plain": [
       "                      qinc_front   qinc_back   iso_front  iso_back\n",
       "2017-08-31 11:00:00  1034.967753  106.627832   20.848345  0.115792\n",
       "2017-08-31 15:00:00   811.659036   85.535537  276.181750  6.304878"
      ]
     },
     "execution_count": 7,
     "metadata": {},
     "output_type": "execute_result"
    }
   ],
   "source": [
    "# Create a function that will build a report\n",
    "from pvfactors.report import example_fn_build_report\n",
    "\n",
    "# Run full simulation\n",
    "report = engine.run_all_timesteps(fn_build_report=example_fn_build_report)\n",
    "\n",
    "# Print results (report is defined by report function passed by user)\n",
    "df_report = pd.DataFrame(report, index=df_inputs.index)\n",
    "df_report"
   ]
  },
  {
   "cell_type": "markdown",
   "metadata": {},
   "source": [
    "As already shown, the calculated incident irradiance on the front surface of the center PV row for the second timestamp is 811.66 W/m2."
   ]
  }
 ],
 "metadata": {
  "hide_input": false,
  "kernelspec": {
   "display_name": "py3_pvfactors",
   "language": "python",
   "name": "py3_pvfactors"
  },
  "language_info": {
   "codemirror_mode": {
    "name": "ipython",
    "version": 3
   },
   "file_extension": ".py",
   "mimetype": "text/x-python",
   "name": "python",
   "nbconvert_exporter": "python",
   "pygments_lexer": "ipython3",
   "version": "3.6.4"
  },
  "toc": {
   "base_numbering": 1,
   "nav_menu": {},
   "number_sections": true,
   "sideBar": true,
   "skip_h1_title": true,
   "title_cell": "Table of Contents",
   "title_sidebar": "Contents",
   "toc_cell": false,
   "toc_position": {},
   "toc_section_display": true,
   "toc_window_display": true
  },
  "varInspector": {
   "cols": {
    "lenName": 16,
    "lenType": 16,
    "lenVar": 40
   },
   "kernels_config": {
    "python": {
     "delete_cmd_postfix": "",
     "delete_cmd_prefix": "del ",
     "library": "var_list.py",
     "varRefreshCmd": "print(var_dic_list())"
    },
    "r": {
     "delete_cmd_postfix": ") ",
     "delete_cmd_prefix": "rm(",
     "library": "var_list.r",
     "varRefreshCmd": "cat(var_dic_list()) "
    }
   },
   "types_to_exclude": [
    "module",
    "function",
    "builtin_function_or_method",
    "instance",
    "_Feature"
   ],
   "window_display": false
  }
 },
 "nbformat": 4,
 "nbformat_minor": 1
}
