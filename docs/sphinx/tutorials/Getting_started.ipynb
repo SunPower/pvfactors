{
 "cells": [
  {
   "cell_type": "markdown",
   "metadata": {},
   "source": [
    "Getting started\n",
    "============"
   ]
  },
  {
   "cell_type": "markdown",
   "metadata": {},
   "source": [
    "This is a quick overview of multiple capabilities of ``pvfactors``:\n",
    "\n",
    "- create a PV array\n",
    "- use the engine to update the PV array\n",
    "- plot the PV array 2D geometry for a given timestamp index\n",
    "- run a timeseries bifacial simulation using the \"fast mode\"\n",
    "- run a timeseries bifacial simulation using the \"full mode\""
   ]
  },
  {
   "cell_type": "markdown",
   "metadata": {},
   "source": [
    "Imports and settings"
   ]
  },
  {
   "cell_type": "code",
   "execution_count": 1,
   "metadata": {},
   "outputs": [],
   "source": [
    "# Import external libraries\n",
    "import numpy as np\n",
    "import matplotlib.pyplot as plt\n",
    "from datetime import datetime\n",
    "import pandas as pd\n",
    "import warnings\n",
    "warnings.filterwarnings(\"ignore\", category=RuntimeWarning) \n",
    "\n",
    "# Settings\n",
    "%matplotlib inline\n",
    "np.set_printoptions(precision=3, linewidth=300)"
   ]
  },
  {
   "cell_type": "markdown",
   "metadata": {},
   "source": [
    "### Get timeseries inputs"
   ]
  },
  {
   "cell_type": "code",
   "execution_count": 2,
   "metadata": {},
   "outputs": [
    {
     "data": {
      "text/html": [
       "<div>\n",
       "<style scoped>\n",
       "    .dataframe tbody tr th:only-of-type {\n",
       "        vertical-align: middle;\n",
       "    }\n",
       "\n",
       "    .dataframe tbody tr th {\n",
       "        vertical-align: top;\n",
       "    }\n",
       "\n",
       "    .dataframe thead th {\n",
       "        text-align: right;\n",
       "    }\n",
       "</style>\n",
       "<table border=\"1\" class=\"dataframe\">\n",
       "  <thead>\n",
       "    <tr style=\"text-align: right;\">\n",
       "      <th></th>\n",
       "      <th>solar_zenith</th>\n",
       "      <th>solar_azimuth</th>\n",
       "      <th>surface_tilt</th>\n",
       "      <th>surface_azimuth</th>\n",
       "      <th>dni</th>\n",
       "      <th>dhi</th>\n",
       "      <th>albedo</th>\n",
       "    </tr>\n",
       "  </thead>\n",
       "  <tbody>\n",
       "    <tr>\n",
       "      <td>2017-08-31 11:00:00</td>\n",
       "      <td>20.0</td>\n",
       "      <td>110.0</td>\n",
       "      <td>10.0</td>\n",
       "      <td>90.0</td>\n",
       "      <td>1000.0</td>\n",
       "      <td>50.0</td>\n",
       "      <td>0.2</td>\n",
       "    </tr>\n",
       "    <tr>\n",
       "      <td>2017-08-31 15:00:00</td>\n",
       "      <td>50.0</td>\n",
       "      <td>250.0</td>\n",
       "      <td>20.0</td>\n",
       "      <td>270.0</td>\n",
       "      <td>900.0</td>\n",
       "      <td>100.0</td>\n",
       "      <td>0.2</td>\n",
       "    </tr>\n",
       "  </tbody>\n",
       "</table>\n",
       "</div>"
      ],
      "text/plain": [
       "                     solar_zenith  solar_azimuth  surface_tilt  \\\n",
       "2017-08-31 11:00:00          20.0          110.0          10.0   \n",
       "2017-08-31 15:00:00          50.0          250.0          20.0   \n",
       "\n",
       "                     surface_azimuth     dni    dhi  albedo  \n",
       "2017-08-31 11:00:00             90.0  1000.0   50.0     0.2  \n",
       "2017-08-31 15:00:00            270.0   900.0  100.0     0.2  "
      ]
     },
     "execution_count": 2,
     "metadata": {},
     "output_type": "execute_result"
    }
   ],
   "source": [
    "df_inputs = pd.DataFrame(\n",
    "    {'solar_zenith': [20., 50.],\n",
    "     'solar_azimuth': [110., 250.],\n",
    "     'surface_tilt': [10., 20.],\n",
    "     'surface_azimuth': [90., 270.],\n",
    "     'dni': [1000., 900.],\n",
    "     'dhi': [50., 100.],\n",
    "     'albedo': [0.2, 0.2]}, \n",
    "    index=[datetime(2017, 8, 31, 11), datetime(2017, 8, 31, 15)]\n",
    ")\n",
    "df_inputs"
   ]
  },
  {
   "cell_type": "markdown",
   "metadata": {},
   "source": [
    "### Prepare some PV array parameters"
   ]
  },
  {
   "cell_type": "code",
   "execution_count": 3,
   "metadata": {},
   "outputs": [],
   "source": [
    "pvarray_parameters = {\n",
    "    'n_pvrows': 3,            # number of pv rows\n",
    "    'pvrow_height': 1,        # height of pvrows (measured at center / torque tube)\n",
    "    'pvrow_width': 1,         # width of pvrows\n",
    "    'axis_azimuth': 0.,       # azimuth angle of rotation axis\n",
    "    'gcr': 0.4,               # ground coverage ratio\n",
    "}"
   ]
  },
  {
   "cell_type": "markdown",
   "metadata": {},
   "source": [
    "### Create a PV array and update it with the engine"
   ]
  },
  {
   "cell_type": "markdown",
   "metadata": {},
   "source": [
    "Use the ``PVEngine`` and the ``OrderedPVArray`` to run simulations"
   ]
  },
  {
   "cell_type": "code",
   "execution_count": 4,
   "metadata": {},
   "outputs": [],
   "source": [
    "from pvfactors.engine import PVEngine\n",
    "from pvfactors.geometry import OrderedPVArray\n",
    "\n",
    "# Create an ordered PV array\n",
    "pvarray = OrderedPVArray.init_from_dict(pvarray_parameters)\n",
    "# Create engine using the PV array\n",
    "engine = PVEngine(pvarray)\n",
    "# Fit engine to data: which will update the pvarray object as well\n",
    "engine.fit(df_inputs.index, df_inputs.dni, df_inputs.dhi, \n",
    "           df_inputs.solar_zenith, df_inputs.solar_azimuth, \n",
    "           df_inputs.surface_tilt, df_inputs.surface_azimuth, \n",
    "           df_inputs.albedo)"
   ]
  },
  {
   "cell_type": "markdown",
   "metadata": {},
   "source": [
    "The user can then plot the PV array 2D geometry for any of the simulation timestamp"
   ]
  },
  {
   "cell_type": "code",
   "execution_count": 5,
   "metadata": {},
   "outputs": [
    {
     "data": {
      "image/png": "[encoded data removed]",
      "text/plain": [
       "<Figure size 720x216 with 1 Axes>"
      ]
     },
     "metadata": {
      "needs_background": "light"
     },
     "output_type": "display_data"
    }
   ],
   "source": [
    "# Plot pvarray shapely geometries\n",
    "f, ax = plt.subplots(figsize=(10, 3))\n",
    "pvarray.plot_at_idx(1, ax)\n",
    "plt.show()"
   ]
  },
  {
   "cell_type": "markdown",
   "metadata": {},
   "source": [
    "### Run simulation using the fast mode"
   ]
  },
  {
   "cell_type": "markdown",
   "metadata": {},
   "source": [
    "The \"fast mode\" allows the user to get almost instantaneous calculation results for the incident irradiance on the back surface of the PV rows. It assumes that the incident irradiance values on surfaces other than back surfaces are known (e.g. from the Perez transposition model)."
   ]
  },
  {
   "cell_type": "code",
   "execution_count": 6,
   "metadata": {},
   "outputs": [
    {
     "name": "stdout",
     "output_type": "stream",
     "text": [
      "Incident irradiance on back surface of middle PV row: \n",
      "\n"
     ]
    },
    {
     "data": {
      "text/html": [
       "<div>\n",
       "<style scoped>\n",
       "    .dataframe tbody tr th:only-of-type {\n",
       "        vertical-align: middle;\n",
       "    }\n",
       "\n",
       "    .dataframe tbody tr th {\n",
       "        vertical-align: top;\n",
       "    }\n",
       "\n",
       "    .dataframe thead th {\n",
       "        text-align: right;\n",
       "    }\n",
       "</style>\n",
       "<table border=\"1\" class=\"dataframe\">\n",
       "  <thead>\n",
       "    <tr style=\"text-align: right;\">\n",
       "      <th></th>\n",
       "      <th>qinc_back</th>\n",
       "    </tr>\n",
       "  </thead>\n",
       "  <tbody>\n",
       "    <tr>\n",
       "      <td>2017-08-31 11:00:00</td>\n",
       "      <td>110.586509</td>\n",
       "    </tr>\n",
       "    <tr>\n",
       "      <td>2017-08-31 15:00:00</td>\n",
       "      <td>86.943571</td>\n",
       "    </tr>\n",
       "  </tbody>\n",
       "</table>\n",
       "</div>"
      ],
      "text/plain": [
       "                      qinc_back\n",
       "2017-08-31 11:00:00  110.586509\n",
       "2017-08-31 15:00:00   86.943571"
      ]
     },
     "execution_count": 6,
     "metadata": {},
     "output_type": "execute_result"
    }
   ],
   "source": [
    "# Create a function that will build a report from the simulation and return the \n",
    "# incident irradiance on the back surface of the middle PV row\n",
    "def fn_report(pvarray): return pd.DataFrame({'qinc_back': pvarray.ts_pvrows[1].back.get_param_weighted('qinc')})\n",
    "\n",
    "# Run the fast mode calculation on the middle PV row\n",
    "df_report_fast = engine.run_fast_mode(fn_build_report=fn_report, pvrow_index=1)\n",
    "\n",
    "# Print the results\n",
    "print('Incident irradiance on back surface of middle PV row: \\n')\n",
    "df_report_fast"
   ]
  },
  {
   "cell_type": "markdown",
   "metadata": {},
   "source": [
    "### Run simulation using the full mode"
   ]
  },
  {
   "cell_type": "markdown",
   "metadata": {},
   "source": [
    "The \"full mode\" allows the user to run the irradiance calculations by accounting for the equilibrium of reflections between all the surfaces in the system. So it is more precise than the \"fast mode\", but it takes a little longer to run."
   ]
  },
  {
   "cell_type": "code",
   "execution_count": 7,
   "metadata": {},
   "outputs": [
    {
     "name": "stderr",
     "output_type": "stream",
     "text": [
      "100%|██████████| 2/2 [00:00<00:00, 37.55it/s]\n"
     ]
    }
   ],
   "source": [
    "# Create a function that will build a report: here we use an example that reports irradiance on center PV row\n",
    "from pvfactors.report import example_fn_build_report\n",
    "\n",
    "# Run full mode simulation\n",
    "report = engine.run_full_mode(fn_build_report=example_fn_build_report)"
   ]
  },
  {
   "cell_type": "code",
   "execution_count": 8,
   "metadata": {},
   "outputs": [
    {
     "name": "stdout",
     "output_type": "stream",
     "text": [
      "Incident irradiance on back surface of middle PV row: \n",
      "\n"
     ]
    },
    {
     "data": {
      "text/html": [
       "<div>\n",
       "<style scoped>\n",
       "    .dataframe tbody tr th:only-of-type {\n",
       "        vertical-align: middle;\n",
       "    }\n",
       "\n",
       "    .dataframe tbody tr th {\n",
       "        vertical-align: top;\n",
       "    }\n",
       "\n",
       "    .dataframe thead th {\n",
       "        text-align: right;\n",
       "    }\n",
       "</style>\n",
       "<table border=\"1\" class=\"dataframe\">\n",
       "  <thead>\n",
       "    <tr style=\"text-align: right;\">\n",
       "      <th></th>\n",
       "      <th>qinc_back</th>\n",
       "    </tr>\n",
       "  </thead>\n",
       "  <tbody>\n",
       "    <tr>\n",
       "      <td>2017-08-31 11:00:00</td>\n",
       "      <td>106.627832</td>\n",
       "    </tr>\n",
       "    <tr>\n",
       "      <td>2017-08-31 15:00:00</td>\n",
       "      <td>79.668878</td>\n",
       "    </tr>\n",
       "  </tbody>\n",
       "</table>\n",
       "</div>"
      ],
      "text/plain": [
       "                      qinc_back\n",
       "2017-08-31 11:00:00  106.627832\n",
       "2017-08-31 15:00:00   79.668878"
      ]
     },
     "execution_count": 8,
     "metadata": {},
     "output_type": "execute_result"
    }
   ],
   "source": [
    "# Print results (report is defined by report function passed by user)\n",
    "df_report_full = pd.DataFrame(report, index=df_inputs.index)\n",
    "\n",
    "print('Incident irradiance on back surface of middle PV row: \\n')\n",
    "df_report_full[['qinc_back']]"
   ]
  },
  {
   "cell_type": "markdown",
   "metadata": {},
   "source": [
    "We can observe here some differences between the fast and full modes for the back surface total irradiance, which are mainly due the difference in how reflections are accounted for."
   ]
  }
 ],
 "metadata": {
  "hide_input": false,
  "kernelspec": {
   "display_name": "pvfactors_py3",
   "language": "python",
   "name": "pvfactors_py3"
  },
  "language_info": {
   "codemirror_mode": {
    "name": "ipython",
    "version": 3
   },
   "file_extension": ".py",
   "mimetype": "text/x-python",
   "name": "python",
   "nbconvert_exporter": "python",
   "pygments_lexer": "ipython3",
   "version": "3.6.9"
  },
  "toc": {
   "base_numbering": 1,
   "nav_menu": {},
   "number_sections": true,
   "sideBar": true,
   "skip_h1_title": true,
   "title_cell": "Table of Contents",
   "title_sidebar": "Contents",
   "toc_cell": false,
   "toc_position": {},
   "toc_section_display": true,
   "toc_window_display": true
  },
  "varInspector": {
   "cols": {
    "lenName": 16,
    "lenType": 16,
    "lenVar": 40
   },
   "kernels_config": {
    "python": {
     "delete_cmd_postfix": "",
     "delete_cmd_prefix": "del ",
     "library": "var_list.py",
     "varRefreshCmd": "print(var_dic_list())"
    },
    "r": {
     "delete_cmd_postfix": ") ",
     "delete_cmd_prefix": "rm(",
     "library": "var_list.r",
     "varRefreshCmd": "cat(var_dic_list()) "
    }
   },
   "types_to_exclude": [
    "module",
    "function",
    "builtin_function_or_method",
    "instance",
    "_Feature"
   ],
   "window_display": false
  }
 },
 "nbformat": 4,
 "nbformat_minor": 1
}
