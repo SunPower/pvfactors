{
 "cells": [
  {
   "cell_type": "markdown",
   "metadata": {},
   "source": [
    "Discretize PV row sides and indexing\n",
    "=============================="
   ]
  },
  {
   "cell_type": "markdown",
   "metadata": {},
   "source": [
    "In this section, we will learn how to:\n",
    "\n",
    "- create a PV array with discretized PV row sides\n",
    "- index the surfaces of a PV array\n",
    "- plot a PV array with indices shown on plot"
   ]
  },
  {
   "cell_type": "markdown",
   "metadata": {},
   "source": [
    "Imports and settings"
   ]
  },
  {
   "cell_type": "code",
   "execution_count": 1,
   "metadata": {},
   "outputs": [],
   "source": [
    "# Import external libraries\n",
    "import matplotlib.pyplot as plt\n",
    "\n",
    "# Settings\n",
    "% matplotlib inline"
   ]
  },
  {
   "cell_type": "markdown",
   "metadata": {},
   "source": [
    "### Prepare PV array parameters"
   ]
  },
  {
   "cell_type": "code",
   "execution_count": 2,
   "metadata": {},
   "outputs": [],
   "source": [
    "pvarray_parameters = {\n",
    "    'n_pvrows': 3,            # number of pv rows\n",
    "    'pvrow_height': 1,        # height of pvrows (measured at center / torque tube)\n",
    "    'pvrow_width': 1,         # width of pvrows\n",
    "    'axis_azimuth': 0.,       # azimuth angle of rotation axis\n",
    "    'surface_tilt': 20.,      # tilt of the pv rows\n",
    "    'surface_azimuth': 270.,   # azimuth of the pv rows front surface\n",
    "    'solar_zenith': 40.,      # solar zenith angle\n",
    "    'solar_azimuth': 150.,    # solar azimuth angle\n",
    "    'gcr': 0.5,               # ground coverage ratio\n",
    "}"
   ]
  },
  {
   "cell_type": "markdown",
   "metadata": {},
   "source": [
    "### Create discretization scheme"
   ]
  },
  {
   "cell_type": "code",
   "execution_count": 3,
   "metadata": {},
   "outputs": [],
   "source": [
    "discretization = {'cut':{\n",
    "    0: {'back': 5},  # discretize the back side of the leftmost PV row into 5 segments\n",
    "    1: {'front': 3}  # discretize the front side of the center PV row into 3 segments\n",
    "}}\n",
    "pvarray_parameters.update(discretization)"
   ]
  },
  {
   "cell_type": "markdown",
   "metadata": {},
   "source": [
    "### Create a PV array"
   ]
  },
  {
   "cell_type": "markdown",
   "metadata": {},
   "source": [
    "Import the ``OrderedPVArray`` class and create a PV array object using the parameters above"
   ]
  },
  {
   "cell_type": "code",
   "execution_count": 4,
   "metadata": {},
   "outputs": [],
   "source": [
    "from pvfactors.geometry import OrderedPVArray\n",
    "# Create pv array\n",
    "pvarray = OrderedPVArray.from_dict(pvarray_parameters)\n",
    "# Cast shadows\n",
    "pvarray.cast_shadows()"
   ]
  },
  {
   "cell_type": "markdown",
   "metadata": {},
   "source": [
    "Plot the PV array"
   ]
  },
  {
   "cell_type": "code",
   "execution_count": 5,
   "metadata": {},
   "outputs": [
    {
     "data": {
      "image/png": "[encoded data removed]",
      "text/plain": [
       "<Figure size 720x216 with 1 Axes>"
      ]
     },
     "metadata": {},
     "output_type": "display_data"
    }
   ],
   "source": [
    "# Plot pvarray shapely geometries\n",
    "f, ax = plt.subplots(figsize=(10, 3))\n",
    "pvarray.plot(ax)\n",
    "plt.show()"
   ]
  },
  {
   "cell_type": "markdown",
   "metadata": {},
   "source": [
    "As we can see, there is some discretization on the leftmost and the center PV rows.  \n",
    "We can check that it was correctly done using the ``pvarray`` object."
   ]
  },
  {
   "cell_type": "code",
   "execution_count": 6,
   "metadata": {},
   "outputs": [
    {
     "name": "stdout",
     "output_type": "stream",
     "text": [
      "Back side of leftmost PV row has 5 segments\n"
     ]
    }
   ],
   "source": [
    "pvrow_left = pvarray.pvrows[0]\n",
    "n_segments = len(pvrow_left.back.list_segments)\n",
    "print(\"Back side of leftmost PV row has {} segments\".format(n_segments))"
   ]
  },
  {
   "cell_type": "code",
   "execution_count": 7,
   "metadata": {},
   "outputs": [
    {
     "name": "stdout",
     "output_type": "stream",
     "text": [
      "Front side of center PV row has 3 segments\n"
     ]
    }
   ],
   "source": [
    "pvrow_center = pvarray.pvrows[1]\n",
    "n_segments = len(pvrow_center.front.list_segments)\n",
    "print(\"Front side of center PV row has {} segments\".format(n_segments))"
   ]
  },
  {
   "cell_type": "markdown",
   "metadata": {},
   "source": [
    "### Clarification on segments and surfaces"
   ]
  },
  {
   "cell_type": "markdown",
   "metadata": {},
   "source": [
    "A clarification needs to be done though: **SEGMENTS are not SURFACES in pvfactors**.  \n",
    "You can see for instance that the ground geometry has multiple shaded and illuminated surfaces, but it does have only 1 segment."
   ]
  },
  {
   "cell_type": "code",
   "execution_count": 8,
   "metadata": {},
   "outputs": [
    {
     "name": "stdout",
     "output_type": "stream",
     "text": [
      "Ground has 1 segment\n"
     ]
    }
   ],
   "source": [
    "ground = pvarray.ground\n",
    "n_segments = len(ground.list_segments)\n",
    "print(\"Ground has {} segment\".format(n_segments))"
   ]
  },
  {
   "cell_type": "code",
   "execution_count": 9,
   "metadata": {},
   "outputs": [
    {
     "name": "stdout",
     "output_type": "stream",
     "text": [
      "Ground has 3 shaded surfaces\n",
      "Ground has 4 illuminated surfaces\n"
     ]
    }
   ],
   "source": [
    "ground_segment = ground.list_segments[0]\n",
    "n_shaded_surfaces = len(ground_segment.shaded_collection.list_surfaces)\n",
    "n_illum_surfaces = len(ground_segment.illum_collection.list_surfaces)\n",
    "print(\"Ground has {} shaded surfaces\".format(n_shaded_surfaces))\n",
    "print(\"Ground has {} illuminated surfaces\".format(n_illum_surfaces))"
   ]
  },
  {
   "cell_type": "markdown",
   "metadata": {},
   "source": [
    "The reason behind this abstraction is that surfaces will always change depending on the solar angles, and shading configuration. But segments will never change, so the user can keep track of particular segments of a PV row side for instance."
   ]
  },
  {
   "cell_type": "markdown",
   "metadata": {},
   "source": [
    "### Indexing a PV array"
   ]
  },
  {
   "cell_type": "markdown",
   "metadata": {},
   "source": [
    "In order to perform some calculations on PV array surfaces, it is sometimes important to index them.  \n",
    "``pvfactors`` takes care of this."
   ]
  },
  {
   "cell_type": "code",
   "execution_count": 10,
   "metadata": {},
   "outputs": [],
   "source": [
    "# Index PV array\n",
    "pvarray.index_all_surfaces()"
   ]
  },
  {
   "cell_type": "markdown",
   "metadata": {},
   "source": [
    "So now, we can for instance check the index of the surfaces on the front side of the center PV row"
   ]
  },
  {
   "cell_type": "code",
   "execution_count": 11,
   "metadata": {},
   "outputs": [
    {
     "name": "stdout",
     "output_type": "stream",
     "text": [
      "Indices of surfaces on front side of center PV row\n",
      "... surface index: 13\n",
      "... surface index: 14\n",
      "... surface index: 15\n"
     ]
    }
   ],
   "source": [
    "# List some indices\n",
    "surface_list = pvrow_center.front.all_surfaces\n",
    "print(\"Indices of surfaces on front side of center PV row\")\n",
    "for surface in surface_list:\n",
    "    index = surface.index\n",
    "    print(\"... surface index: {}\".format(index))"
   ]
  },
  {
   "cell_type": "markdown",
   "metadata": {},
   "source": [
    "As expected, there are 3 surfaces on the front side of the center PV row."
   ]
  },
  {
   "cell_type": "markdown",
   "metadata": {},
   "source": [
    "### Plot PV array with indices"
   ]
  },
  {
   "cell_type": "markdown",
   "metadata": {},
   "source": [
    "It is possible also to visualize the PV surface indices when plotting a PV array."
   ]
  },
  {
   "cell_type": "code",
   "execution_count": 12,
   "metadata": {},
   "outputs": [
    {
     "data": {
      "image/png": "[encoded data removed]",
      "text/plain": [
       "<Figure size 720x288 with 1 Axes>"
      ]
     },
     "metadata": {},
     "output_type": "display_data"
    }
   ],
   "source": [
    "# Plot pvarray shapely geometries with surface indices\n",
    "f, ax = plt.subplots(figsize=(10, 4))\n",
    "pvarray.plot(ax, with_index=True)\n",
    "plt.show()"
   ]
  },
  {
   "cell_type": "markdown",
   "metadata": {},
   "source": [
    "As shown above, the surfaces on the front side of the center PV row have indices 13, 14, and 15.  \n",
    "The ground surfaces indexed 0 (leftmost) and 3 (rightmost) are cut off for plotting convenience."
   ]
  }
 ],
 "metadata": {
  "kernelspec": {
   "display_name": "py2_pvfactors",
   "language": "python",
   "name": "py2_pvfactors"
  },
  "language_info": {
   "codemirror_mode": {
    "name": "ipython",
    "version": 2
   },
   "file_extension": ".py",
   "mimetype": "text/x-python",
   "name": "python",
   "nbconvert_exporter": "python",
   "pygments_lexer": "ipython2",
   "version": "2.7.14"
  }
 },
 "nbformat": 4,
 "nbformat_minor": 1
}
