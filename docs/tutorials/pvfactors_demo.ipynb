{
 "cells": [
  {
   "cell_type": "markdown",
   "metadata": {},
   "source": [
    "pvfactors: Jupyter notebook guide\n",
    "============================"
   ]
  },
  {
   "cell_type": "markdown",
   "metadata": {},
   "source": [
    "This Jupyter notebook demonstrates how to use the package for irradiance calculations."
   ]
  },
  {
   "cell_type": "markdown",
   "metadata": {},
   "source": [
    "<h3>Imports and settings</h3>"
   ]
  },
  {
   "cell_type": "code",
   "execution_count": 1,
   "metadata": {},
   "outputs": [],
   "source": [
    "# Import external libraries\n",
    "import numpy as np\n",
    "import matplotlib.pyplot as plt\n",
    "from datetime import datetime\n",
    "import pandas as pd\n",
    "import warnings\n",
    "warnings.filterwarnings(\"ignore\", category=RuntimeWarning) \n",
    "\n",
    "# Settings\n",
    "%matplotlib inline\n",
    "np.set_printoptions(precision=3, linewidth=300)"
   ]
  },
  {
   "cell_type": "markdown",
   "metadata": {},
   "source": [
    "## TL;DR"
   ]
  },
  {
   "cell_type": "markdown",
   "metadata": {},
   "source": [
    "Given some timeseries inputs:"
   ]
  },
  {
   "cell_type": "code",
   "execution_count": 2,
   "metadata": {},
   "outputs": [
    {
     "data": {
      "text/html": [
       "<div>\n",
       "<style scoped>\n",
       "    .dataframe tbody tr th:only-of-type {\n",
       "        vertical-align: middle;\n",
       "    }\n",
       "\n",
       "    .dataframe tbody tr th {\n",
       "        vertical-align: top;\n",
       "    }\n",
       "\n",
       "    .dataframe thead th {\n",
       "        text-align: right;\n",
       "    }\n",
       "</style>\n",
       "<table border=\"1\" class=\"dataframe\">\n",
       "  <thead>\n",
       "    <tr style=\"text-align: right;\">\n",
       "      <th></th>\n",
       "      <th>solar_zenith</th>\n",
       "      <th>solar_azimuth</th>\n",
       "      <th>surface_tilt</th>\n",
       "      <th>surface_azimuth</th>\n",
       "      <th>dni</th>\n",
       "      <th>dhi</th>\n",
       "      <th>albedo</th>\n",
       "    </tr>\n",
       "  </thead>\n",
       "  <tbody>\n",
       "    <tr>\n",
       "      <td>2017-08-31 11:00:00</td>\n",
       "      <td>20.0</td>\n",
       "      <td>110.0</td>\n",
       "      <td>10.0</td>\n",
       "      <td>90.0</td>\n",
       "      <td>1000.0</td>\n",
       "      <td>50.0</td>\n",
       "      <td>0.2</td>\n",
       "    </tr>\n",
       "    <tr>\n",
       "      <td>2017-08-31 15:00:00</td>\n",
       "      <td>50.0</td>\n",
       "      <td>250.0</td>\n",
       "      <td>20.0</td>\n",
       "      <td>270.0</td>\n",
       "      <td>900.0</td>\n",
       "      <td>100.0</td>\n",
       "      <td>0.2</td>\n",
       "    </tr>\n",
       "  </tbody>\n",
       "</table>\n",
       "</div>"
      ],
      "text/plain": [
       "                     solar_zenith  solar_azimuth  surface_tilt  \\\n",
       "2017-08-31 11:00:00          20.0          110.0          10.0   \n",
       "2017-08-31 15:00:00          50.0          250.0          20.0   \n",
       "\n",
       "                     surface_azimuth     dni    dhi  albedo  \n",
       "2017-08-31 11:00:00             90.0  1000.0   50.0     0.2  \n",
       "2017-08-31 15:00:00            270.0   900.0  100.0     0.2  "
      ]
     },
     "execution_count": 2,
     "metadata": {},
     "output_type": "execute_result"
    }
   ],
   "source": [
    "df_inputs = pd.DataFrame(\n",
    "    {'solar_zenith': [20., 50.],\n",
    "     'solar_azimuth': [110., 250.],\n",
    "     'surface_tilt': [10., 20.],\n",
    "     'surface_azimuth': [90., 270.],\n",
    "     'dni': [1000., 900.],\n",
    "     'dhi': [50., 100.],\n",
    "     'albedo': [0.2, 0.2]}, \n",
    "    index=[datetime(2017, 8, 31, 11), datetime(2017, 8, 31, 15)]\n",
    ")\n",
    "df_inputs"
   ]
  },
  {
   "cell_type": "markdown",
   "metadata": {},
   "source": [
    "And some PV array parameters:"
   ]
  },
  {
   "cell_type": "code",
   "execution_count": 3,
   "metadata": {},
   "outputs": [],
   "source": [
    "pvarray_parameters = {\n",
    "    'n_pvrows': 3,            # number of pv rows\n",
    "    'pvrow_height': 1,        # height of pvrows (measured at center / torque tube)\n",
    "    'pvrow_width': 1,         # width of pvrows\n",
    "    'axis_azimuth': 0.,       # azimuth angle of rotation axis\n",
    "    'gcr': 0.4,               # ground coverage ratio\n",
    "}"
   ]
  },
  {
   "cell_type": "markdown",
   "metadata": {},
   "source": [
    "The user can quickly create a PV array with ``pvfactors``, and manipulate it with the engine"
   ]
  },
  {
   "cell_type": "code",
   "execution_count": 4,
   "metadata": {},
   "outputs": [],
   "source": [
    "from pvfactors.geometry import OrderedPVArray\n",
    "# Create PV array\n",
    "pvarray = OrderedPVArray.init_from_dict(pvarray_parameters)"
   ]
  },
  {
   "cell_type": "code",
   "execution_count": 5,
   "metadata": {},
   "outputs": [],
   "source": [
    "from pvfactors.engine import PVEngine\n",
    "# Create engine\n",
    "engine = PVEngine(pvarray)\n",
    "# Fit engine to data\n",
    "engine.fit(df_inputs.index, df_inputs.dni, df_inputs.dhi, \n",
    "           df_inputs.solar_zenith, df_inputs.solar_azimuth, \n",
    "           df_inputs.surface_tilt, df_inputs.surface_azimuth, \n",
    "           df_inputs.albedo)"
   ]
  },
  {
   "cell_type": "markdown",
   "metadata": {},
   "source": [
    "The user can then plot the PV array geometry at any given time of the simulation:"
   ]
  },
  {
   "cell_type": "code",
   "execution_count": 6,
   "metadata": {},
   "outputs": [
    {
     "data": {
      "image/png": "[encoded data removed]",
      "text/plain": [
       "<Figure size 720x360 with 1 Axes>"
      ]
     },
     "metadata": {
      "needs_background": "light"
     },
     "output_type": "display_data"
    }
   ],
   "source": [
    "# Plot pvarray shapely geometries\n",
    "f, ax = plt.subplots(figsize=(10, 5))\n",
    "pvarray.plot_at_idx(1, ax)\n",
    "plt.show()"
   ]
  },
  {
   "cell_type": "markdown",
   "metadata": {},
   "source": [
    "It is then very easy to run simulations using the defined engine:"
   ]
  },
  {
   "cell_type": "code",
   "execution_count": 7,
   "metadata": {},
   "outputs": [],
   "source": [
    "pvarray = engine.run_full_mode_timestep(1)"
   ]
  },
  {
   "cell_type": "markdown",
   "metadata": {},
   "source": [
    "And inspect the results thanks to the simple geometry API"
   ]
  },
  {
   "cell_type": "code",
   "execution_count": 8,
   "metadata": {},
   "outputs": [
    {
     "name": "stdout",
     "output_type": "stream",
     "text": [
      "Incident irradiance on front surface of middle pv row: 886.38 W/m2\n",
      "Reflected irradiance on back surface of left pv row: 86.40 W/m2\n",
      "Isotropic irradiance on back surface of right pv row: 1.85 W/m2\n"
     ]
    }
   ],
   "source": [
    "print(\"Incident irradiance on front surface of middle pv row: %.2f W/m2\"\n",
    "      % (pvarray.pvrows[1].front.get_param_weighted('qinc')))\n",
    "print(\"Reflected irradiance on back surface of left pv row: %.2f W/m2\"\n",
    "      % (pvarray.pvrows[0].back.get_param_weighted('reflection')))\n",
    "print(\"Isotropic irradiance on back surface of right pv row: %.2f W/m2\"\n",
    "      % (pvarray.pvrows[2].back.get_param_weighted('isotropic')))"
   ]
  },
  {
   "cell_type": "markdown",
   "metadata": {},
   "source": [
    "The users can also run simulations for all provided timestamps, and obtain a \"report\" that will look like whatever the users want, and which can rely on the simple API shown above.\n",
    "The two options to run the simulations are:"
   ]
  },
  {
   "cell_type": "markdown",
   "metadata": {},
   "source": [
    "- fast mode: almost instantaneous results for back side irradiance calculations, but simple reflection assumptions"
   ]
  },
  {
   "cell_type": "code",
   "execution_count": 9,
   "metadata": {},
   "outputs": [
    {
     "data": {
      "text/html": [
       "<div>\n",
       "<style scoped>\n",
       "    .dataframe tbody tr th:only-of-type {\n",
       "        vertical-align: middle;\n",
       "    }\n",
       "\n",
       "    .dataframe tbody tr th {\n",
       "        vertical-align: top;\n",
       "    }\n",
       "\n",
       "    .dataframe thead th {\n",
       "        text-align: right;\n",
       "    }\n",
       "</style>\n",
       "<table border=\"1\" class=\"dataframe\">\n",
       "  <thead>\n",
       "    <tr style=\"text-align: right;\">\n",
       "      <th></th>\n",
       "      <th>qinc_back</th>\n",
       "    </tr>\n",
       "  </thead>\n",
       "  <tbody>\n",
       "    <tr>\n",
       "      <td>2017-08-31 11:00:00</td>\n",
       "      <td>110.586509</td>\n",
       "    </tr>\n",
       "    <tr>\n",
       "      <td>2017-08-31 15:00:00</td>\n",
       "      <td>86.943571</td>\n",
       "    </tr>\n",
       "  </tbody>\n",
       "</table>\n",
       "</div>"
      ],
      "text/plain": [
       "                      qinc_back\n",
       "2017-08-31 11:00:00  110.586509\n",
       "2017-08-31 15:00:00   86.943571"
      ]
     },
     "execution_count": 9,
     "metadata": {},
     "output_type": "execute_result"
    }
   ],
   "source": [
    "# Create a function that will build a report\n",
    "def fn_report(pvarray): return {'qinc_back': pvarray.ts_pvrows[1].back.get_param_weighted('qinc')}\n",
    "\n",
    "# Run fast mode simulation\n",
    "report = engine.run_fast_mode(fn_build_report=fn_report, pvrow_index=1)\n",
    "\n",
    "# Print results (report is defined by report function passed by user)\n",
    "df_report = pd.DataFrame(report, index=df_inputs.index)\n",
    "df_report"
   ]
  },
  {
   "cell_type": "markdown",
   "metadata": {},
   "source": [
    "- full mode: which calculates the equilibrium of reflections for all timestamps and all surfaces"
   ]
  },
  {
   "cell_type": "code",
   "execution_count": 10,
   "metadata": {},
   "outputs": [
    {
     "name": "stderr",
     "output_type": "stream",
     "text": [
      "100%|██████████| 2/2 [00:00<00:00, 51.08it/s]\n"
     ]
    },
    {
     "data": {
      "text/html": [
       "<div>\n",
       "<style scoped>\n",
       "    .dataframe tbody tr th:only-of-type {\n",
       "        vertical-align: middle;\n",
       "    }\n",
       "\n",
       "    .dataframe tbody tr th {\n",
       "        vertical-align: top;\n",
       "    }\n",
       "\n",
       "    .dataframe thead th {\n",
       "        text-align: right;\n",
       "    }\n",
       "</style>\n",
       "<table border=\"1\" class=\"dataframe\">\n",
       "  <thead>\n",
       "    <tr style=\"text-align: right;\">\n",
       "      <th></th>\n",
       "      <th>qinc_front</th>\n",
       "      <th>qinc_back</th>\n",
       "      <th>iso_front</th>\n",
       "      <th>iso_back</th>\n",
       "    </tr>\n",
       "  </thead>\n",
       "  <tbody>\n",
       "    <tr>\n",
       "      <td>2017-08-31 11:00:00</td>\n",
       "      <td>1034.967753</td>\n",
       "      <td>106.627832</td>\n",
       "      <td>20.848345</td>\n",
       "      <td>0.115792</td>\n",
       "    </tr>\n",
       "    <tr>\n",
       "      <td>2017-08-31 15:00:00</td>\n",
       "      <td>886.376819</td>\n",
       "      <td>79.668878</td>\n",
       "      <td>54.995702</td>\n",
       "      <td>1.255482</td>\n",
       "    </tr>\n",
       "  </tbody>\n",
       "</table>\n",
       "</div>"
      ],
      "text/plain": [
       "                      qinc_front   qinc_back  iso_front  iso_back\n",
       "2017-08-31 11:00:00  1034.967753  106.627832  20.848345  0.115792\n",
       "2017-08-31 15:00:00   886.376819   79.668878  54.995702  1.255482"
      ]
     },
     "execution_count": 10,
     "metadata": {},
     "output_type": "execute_result"
    }
   ],
   "source": [
    "# Create a function that will build a report\n",
    "from pvfactors.report import example_fn_build_report\n",
    "\n",
    "# Run full mode simulation\n",
    "report = engine.run_full_mode(fn_build_report=example_fn_build_report)\n",
    "\n",
    "# Print results (report is defined by report function passed by user)\n",
    "df_report = pd.DataFrame(report, index=df_inputs.index)\n",
    "df_report"
   ]
  }
 ],
 "metadata": {
  "kernelspec": {
   "display_name": "pvfactors_py3",
   "language": "python",
   "name": "pvfactors_py3"
  },
  "language_info": {
   "codemirror_mode": {
    "name": "ipython",
    "version": 3
   },
   "file_extension": ".py",
   "mimetype": "text/x-python",
   "name": "python",
   "nbconvert_exporter": "python",
   "pygments_lexer": "ipython3",
   "version": "3.6.9"
  }
 },
 "nbformat": 4,
 "nbformat_minor": 1
}
