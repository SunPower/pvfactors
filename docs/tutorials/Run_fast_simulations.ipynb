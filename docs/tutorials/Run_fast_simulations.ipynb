{
 "cells": [
  {
   "cell_type": "markdown",
   "metadata": {},
   "source": [
    "Run \"fast\" simulations with 8760 annual inputs\n",
    "==================================="
   ]
  },
  {
   "cell_type": "markdown",
   "metadata": {},
   "source": [
    "In this section, we will learn how to:\n",
    "\n",
    "- run timeseries simulations with \"fast\" mode and in parallel using the ``run_parallel_engine()`` function\n",
    "- run timeseries simulations with \"fast\" mode and using the ``PVEngine``\n",
    "\n",
    "Note: for a better understanding, it might help to read the previous tutorial sections on running timeseries / parallel simulations before going through the following"
   ]
  },
  {
   "cell_type": "markdown",
   "metadata": {},
   "source": [
    "Imports and settings"
   ]
  },
  {
   "cell_type": "code",
   "execution_count": 1,
   "metadata": {},
   "outputs": [],
   "source": [
    "# Import external libraries\n",
    "import numpy as np\n",
    "import matplotlib.pyplot as plt\n",
    "from datetime import datetime\n",
    "import pandas as pd\n",
    "import warnings\n",
    "\n",
    "# Settings\n",
    "%matplotlib inline\n",
    "np.set_printoptions(precision=3, linewidth=300)\n",
    "warnings.filterwarnings('ignore')\n",
    "# Paths\n",
    "LOCAL_DIR = os.getcwd()\n",
    "DATA_DIR = os.path.join(LOCAL_DIR, 'data')\n",
    "filepath = os.path.join(DATA_DIR, 'test_df_inputs_MET_clearsky_tucson.csv')"
   ]
  },
  {
   "cell_type": "markdown",
   "metadata": {},
   "source": [
    "## Overview of \"fast\" mode"
   ]
  },
  {
   "cell_type": "markdown",
   "metadata": {},
   "source": [
    "The fast mode simulation was implemented in pvfactors v1.0.2. It relies on a mathematical simplification (see Theory section of the documentation) of the problem that assumes that we already know the irradiance incident on all front PV row surfaces and ground surfaces thanks to the Perez model. In this mode, we therefore only calculate view factors from PV row back surfaces to the other ones (therefore decreasing the number of view factors to calculate), and we do not need to solve a linear system of equations anymore for \"ordered\" PV arrays since the back surfaces don't see each other.  \n",
    "\n",
    "This is an approximation compared to the \"full\" mode, since we're not calculating the impact of the multiple reflections on the PV array surfaces. But the initial results show that it still provides a very reasonable estimate of back surface incident irradiance values."
   ]
  },
  {
   "cell_type": "markdown",
   "metadata": {},
   "source": [
    "## Running fast simulations in pvfactors"
   ]
  },
  {
   "cell_type": "markdown",
   "metadata": {},
   "source": [
    "### Get timeseries inputs"
   ]
  },
  {
   "cell_type": "code",
   "execution_count": 2,
   "metadata": {},
   "outputs": [],
   "source": [
    "def import_data(fp):\n",
    "    \"\"\"Import 8760 data to run pvfactors simulation\"\"\"\n",
    "    tz = 'US/Arizona'\n",
    "    df = pd.read_csv(fp, index_col=0)\n",
    "    df.index = pd.DatetimeIndex(df.index).tz_convert(tz)\n",
    "    return df\n",
    "\n",
    "df_inputs = import_data(filepath)"
   ]
  },
  {
   "cell_type": "code",
   "execution_count": 3,
   "metadata": {},
   "outputs": [
    {
     "data": {
      "image/png": "[encoded data removed]",
      "text/plain": [
       "<Figure size 864x216 with 3 Axes>"
      ]
     },
     "metadata": {},
     "output_type": "display_data"
    }
   ],
   "source": [
    "# Plot the data\n",
    "f, (ax1, ax2, ax3) = plt.subplots(1, 3, figsize=(12, 3))\n",
    "df_inputs[['dni', 'dhi']].plot(ax=ax1)\n",
    "df_inputs[['solar_zenith', 'solar_azimuth']].plot(ax=ax2)\n",
    "df_inputs[['surface_tilt', 'surface_azimuth']].plot(ax=ax3)\n",
    "plt.show()"
   ]
  },
  {
   "cell_type": "code",
   "execution_count": 4,
   "metadata": {},
   "outputs": [],
   "source": [
    "# Use a fixed albedo\n",
    "albedo = 0.2"
   ]
  },
  {
   "cell_type": "markdown",
   "metadata": {},
   "source": [
    "### Prepare PV array parameters"
   ]
  },
  {
   "cell_type": "code",
   "execution_count": 5,
   "metadata": {},
   "outputs": [],
   "source": [
    "pvarray_parameters = {\n",
    "    'n_pvrows': 3,            # number of pv rows\n",
    "    'pvrow_height': 1,        # height of pvrows (measured at center / torque tube)\n",
    "    'pvrow_width': 1,         # width of pvrows\n",
    "    'axis_azimuth': 0.,       # azimuth angle of rotation axis\n",
    "    'gcr': 0.4,               # ground coverage ratio\n",
    "    'rho_front_pvrow': 0.01,  # pv row front surface reflectivity\n",
    "    'rho_back_pvrow': 0.03    # pv row back surface reflectivity\n",
    "}"
   ]
  },
  {
   "cell_type": "markdown",
   "metadata": {},
   "source": [
    "### Run \"fast\" simulations in parallel with ``run_parallel_engine()``"
   ]
  },
  {
   "cell_type": "markdown",
   "metadata": {},
   "source": [
    "Running fast timeseries simulations in parallel is done using the ``run_parallel_engine()``, and the procedure is exactly the same with ``run_timeseries_engine()``.\n",
    "There is only one additional keyword argument that needs to be provided to the function, which is ``fast_mode_pvrow_index``.\n",
    "In fast mode, the user will be able to calculate rapidly (but with additional approximations) the incident irradiance on the back side of one PV row in the PV array, and the index of that PV row needs to be passed as a keyword argument to ``fast_mode_pvrow_index``."
   ]
  },
  {
   "cell_type": "markdown",
   "metadata": {},
   "source": [
    "**First prepare the report builder class**"
   ]
  },
  {
   "cell_type": "markdown",
   "metadata": {},
   "source": [
    "Just like in the previous tutorial, we need to prepare a report builder that will log the inputs we're interested in during the simulation."
   ]
  },
  {
   "cell_type": "code",
   "execution_count": 6,
   "metadata": {},
   "outputs": [],
   "source": [
    "class ReportBuilder(object):\n",
    "    \"\"\"A class is required to build reports when running calculations with\n",
    "    multiprocessing because of python constraints\"\"\"\n",
    "    \n",
    "    def __init__(self, fast_mode_pvrow_index):\n",
    "        \"\"\"Create report builder object for fast mode simulation.\n",
    "        \n",
    "        Parameters\n",
    "        ----------\n",
    "        fast_mode_pvrow_index : int\n",
    "            Index of PV row whose back side irradiance we want to report\n",
    "        \"\"\"\n",
    "        self.fast_mode_pvrow_index = fast_mode_pvrow_index\n",
    "        \n",
    "    def build(self, report, pvarray):\n",
    "        # Initialize the report as a dictionary\n",
    "        if report is None:\n",
    "            report = {'total_inc_back': []}\n",
    "        # Add elements to the report\n",
    "        if pvarray is not None:\n",
    "            pvrow = pvarray.pvrows[self.fast_mode_pvrow_index]\n",
    "            report['total_inc_back'].append(\n",
    "                pvrow.back.get_param_weighted('qinc'))\n",
    "        else:\n",
    "            # No calculation was performed, because sun was down\n",
    "            report['total_inc_back'].append(np.nan)\n",
    "\n",
    "        return report\n",
    "\n",
    "    @staticmethod\n",
    "    def merge(reports):\n",
    "        \"\"\"Works for dictionary reports\"\"\"\n",
    "        report = reports[0]\n",
    "        # Merge other reports\n",
    "        keys_report = list(reports[0].keys())\n",
    "        for other_report in reports[1:]:\n",
    "            for key in keys_report:\n",
    "                report[key] += other_report[key]\n",
    "        return report\n"
   ]
  },
  {
   "cell_type": "markdown",
   "metadata": {},
   "source": [
    "**Run simulation**"
   ]
  },
  {
   "cell_type": "code",
   "execution_count": 7,
   "metadata": {},
   "outputs": [],
   "source": [
    "# Choose the number of workers \n",
    "n_processes = 2\n",
    "\n",
    "# Choose center row (index 1) for the fast simulation\n",
    "fast_mode_pvrow_index = 1\n",
    "\n",
    "# Instantiate report builder\n",
    "report_builder = ReportBuilder(fast_mode_pvrow_index)"
   ]
  },
  {
   "cell_type": "code",
   "execution_count": 8,
   "metadata": {},
   "outputs": [
    {
     "name": "stderr",
     "output_type": "stream",
     "text": [
      "100%|██████████| 4380/4380 [00:21<00:00, 207.92it/s]\n",
      "100%|██████████| 4380/4380 [00:21<00:00, 212.53it/s]\n",
      "INFO:pvfactors.run:Parallel calculation elapsed time: 21.9998040199 sec\n"
     ]
    }
   ],
   "source": [
    "# import function to run simulations in parallel\n",
    "from pvfactors.run import run_parallel_engine, run_timeseries_engine\n",
    "\n",
    "# run simulations in parallel mode\n",
    "report = run_parallel_engine(report_builder, pvarray_parameters, df_inputs.index, \n",
    "                             df_inputs.dni, df_inputs.dhi, \n",
    "                             df_inputs.solar_zenith, df_inputs.solar_azimuth, \n",
    "                             df_inputs.surface_tilt, df_inputs.surface_azimuth, \n",
    "                             albedo, n_processes=n_processes,\n",
    "                             fast_mode_pvrow_index=fast_mode_pvrow_index)  # new keyword argument\n",
    "\n",
    "# make a dataframe out of the report\n",
    "df_report = pd.DataFrame(report, index=df_inputs.index)"
   ]
  },
  {
   "cell_type": "code",
   "execution_count": 9,
   "metadata": {},
   "outputs": [
    {
     "data": {
      "image/png": "[encoded data removed]",
      "text/plain": [
       "<Figure size 720x216 with 1 Axes>"
      ]
     },
     "metadata": {},
     "output_type": "display_data"
    }
   ],
   "source": [
    "f, ax = plt.subplots(figsize=(10, 3))\n",
    "df_report.iloc[:72].plot(ax=ax)\n",
    "plt.show()"
   ]
  },
  {
   "cell_type": "markdown",
   "metadata": {},
   "source": [
    "### Run \"fast\" simulations with the PVEngine"
   ]
  },
  {
   "cell_type": "markdown",
   "metadata": {},
   "source": [
    "The procedure is similar to run fast simulations with the PVEngine.\n",
    "You only need to provide ``fast_mode_pvrow_index`` as an additional keyword argument to the PV engine at initialization."
   ]
  },
  {
   "cell_type": "code",
   "execution_count": 10,
   "metadata": {},
   "outputs": [],
   "source": [
    "# Import PVEngine and OrderedPVArray\n",
    "from pvfactors.engine import PVEngine\n",
    "from pvfactors.geometry import OrderedPVArray\n",
    "\n",
    "# Instantiate PV array\n",
    "pvarray = OrderedPVArray.init_from_dict(pvarray_parameters)\n",
    "# Create PV engine, and specify the index of the PV row for fast mode\n",
    "eng = PVEngine(pvarray, fast_mode_pvrow_index=fast_mode_pvrow_index)\n",
    "\n",
    "# Fit PV engine to the timeseries data\n",
    "eng.fit(df_inputs.index, df_inputs.dni, df_inputs.dhi, \n",
    "        df_inputs.solar_zenith, df_inputs.solar_azimuth, \n",
    "        df_inputs.surface_tilt, df_inputs.surface_azimuth,\n",
    "        albedo)"
   ]
  },
  {
   "cell_type": "code",
   "execution_count": 11,
   "metadata": {},
   "outputs": [
    {
     "name": "stderr",
     "output_type": "stream",
     "text": [
      "100%|██████████| 8760/8760 [00:36<00:00, 242.15it/s]\n"
     ]
    }
   ],
   "source": [
    "# Run timeseries simulations\n",
    "report = eng.run_all_timesteps(fn_build_report=report_builder.build)"
   ]
  },
  {
   "cell_type": "code",
   "execution_count": 12,
   "metadata": {},
   "outputs": [
    {
     "data": {
      "image/png": "[encoded data removed]",
      "text/plain": [
       "<Figure size 720x216 with 1 Axes>"
      ]
     },
     "metadata": {},
     "output_type": "display_data"
    }
   ],
   "source": [
    "# make a dataframe out of the report\n",
    "df_report = pd.DataFrame(report, index=df_inputs.index)\n",
    "\n",
    "# and plot the results\n",
    "f, ax = plt.subplots(figsize=(10, 3))\n",
    "df_report.iloc[:72].plot(ax=ax)\n",
    "plt.show()"
   ]
  }
 ],
 "metadata": {
  "hide_input": false,
  "kernelspec": {
   "display_name": "py2_pvfactors",
   "language": "python",
   "name": "py2_pvfactors"
  },
  "language_info": {
   "codemirror_mode": {
    "name": "ipython",
    "version": 2
   },
   "file_extension": ".py",
   "mimetype": "text/x-python",
   "name": "python",
   "nbconvert_exporter": "python",
   "pygments_lexer": "ipython2",
   "version": "2.7.14"
  },
  "toc": {
   "base_numbering": 1,
   "nav_menu": {},
   "number_sections": true,
   "sideBar": true,
   "skip_h1_title": true,
   "title_cell": "Table of Contents",
   "title_sidebar": "Contents",
   "toc_cell": false,
   "toc_position": {
    "height": "calc(100% - 180px)",
    "left": "10px",
    "top": "150px",
    "width": "307.2px"
   },
   "toc_section_display": true,
   "toc_window_display": true
  },
  "varInspector": {
   "cols": {
    "lenName": 16,
    "lenType": 16,
    "lenVar": 40
   },
   "kernels_config": {
    "python": {
     "delete_cmd_postfix": "",
     "delete_cmd_prefix": "del ",
     "library": "var_list.py",
     "varRefreshCmd": "print(var_dic_list())"
    },
    "r": {
     "delete_cmd_postfix": ") ",
     "delete_cmd_prefix": "rm(",
     "library": "var_list.r",
     "varRefreshCmd": "cat(var_dic_list()) "
    }
   },
   "types_to_exclude": [
    "module",
    "function",
    "builtin_function_or_method",
    "instance",
    "_Feature"
   ],
   "window_display": false
  }
 },
 "nbformat": 4,
 "nbformat_minor": 1
}
