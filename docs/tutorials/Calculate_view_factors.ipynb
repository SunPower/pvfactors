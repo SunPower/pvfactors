{
 "cells": [
  {
   "cell_type": "markdown",
   "metadata": {},
   "source": [
    "Calculate view factors\n",
    "=================="
   ]
  },
  {
   "cell_type": "markdown",
   "metadata": {},
   "source": [
    "In this section, we will learn how to:\n",
    "\n",
    "- calculate the view factor matrix from a PV array object and understand its shape\n",
    "- plot the pvarray with indices to visualize the meaning of the matrix\n",
    "\n",
    "Note: the following calculation steps are already implemented in the simulation engine ``PVEngine``, please refer to the next tutorials for running complete simulations."
   ]
  },
  {
   "cell_type": "markdown",
   "metadata": {},
   "source": [
    "Imports and settings"
   ]
  },
  {
   "cell_type": "code",
   "execution_count": 1,
   "metadata": {},
   "outputs": [],
   "source": [
    "# Import external libraries\n",
    "import matplotlib.pyplot as plt\n",
    "import numpy as np\n",
    "import warnings\n",
    "warnings.filterwarnings(\"ignore\", category=RuntimeWarning) \n",
    "\n",
    "# Settings\n",
    "%matplotlib inline\n",
    "np.set_printoptions(precision=3)"
   ]
  },
  {
   "cell_type": "markdown",
   "metadata": {},
   "source": [
    "### Prepare PV array parameters"
   ]
  },
  {
   "cell_type": "code",
   "execution_count": 2,
   "metadata": {},
   "outputs": [],
   "source": [
    "pvarray_parameters = {\n",
    "    'n_pvrows': 2,            # number of pv rows\n",
    "    'pvrow_height': 1,        # height of pvrows (measured at center / torque tube)\n",
    "    'pvrow_width': 1,         # width of pvrows\n",
    "    'axis_azimuth': 0.,       # azimuth angle of rotation axis\n",
    "    'surface_tilt': 20.,      # tilt of the pv rows\n",
    "    'surface_azimuth': 90.,   # azimuth of the pv rows front surface\n",
    "    'solar_zenith': 40.,      # solar zenith angle\n",
    "    'solar_azimuth': 150.,    # solar azimuth angle\n",
    "    'gcr': 0.5,               # ground coverage ratio\n",
    "}"
   ]
  },
  {
   "cell_type": "markdown",
   "metadata": {},
   "source": [
    "### Create a PV array and required attributes"
   ]
  },
  {
   "cell_type": "markdown",
   "metadata": {},
   "source": [
    "Import the ``OrderedPVArray`` class and create a PV array object using the parameters above"
   ]
  },
  {
   "cell_type": "code",
   "execution_count": 3,
   "metadata": {},
   "outputs": [],
   "source": [
    "from pvfactors.geometry import OrderedPVArray\n",
    "\n",
    "pvarray = OrderedPVArray.fit_from_dict_of_scalars(pvarray_parameters)"
   ]
  },
  {
   "cell_type": "code",
   "execution_count": 4,
   "metadata": {},
   "outputs": [
    {
     "data": {
      "image/png": "[encoded data removed]",
      "text/plain": [
       "<Figure size 720x216 with 1 Axes>"
      ]
     },
     "metadata": {
      "needs_background": "light"
     },
     "output_type": "display_data"
    }
   ],
   "source": [
    "# Plot pvarray shapely geometries at timestep 0\n",
    "f, ax = plt.subplots(figsize=(10, 3))\n",
    "pvarray.plot_at_idx(0, ax)\n",
    "plt.show()"
   ]
  },
  {
   "cell_type": "markdown",
   "metadata": {},
   "source": [
    "As discussed in the \"PV Array geometry introduction\" tutorial, the ground also has \"cut points\" to indicate the limits of what the PV row front and back sides can see."
   ]
  },
  {
   "cell_type": "markdown",
   "metadata": {},
   "source": [
    "### Calculating the view factor matrix"
   ]
  },
  {
   "cell_type": "markdown",
   "metadata": {},
   "source": [
    "In order to calculate the view factor matrix, we need to pass the PV array object to view factor calculator method.\n",
    "\n",
    "Create the view factor calculator."
   ]
  },
  {
   "cell_type": "code",
   "execution_count": 5,
   "metadata": {},
   "outputs": [],
   "source": [
    "# import view factor calculator\n",
    "from pvfactors.viewfactors import VFCalculator\n",
    "# instantiate calculator\n",
    "vf_calculator = VFCalculator()"
   ]
  },
  {
   "cell_type": "code",
   "execution_count": 6,
   "metadata": {},
   "outputs": [],
   "source": [
    "# calculate view factor matrix of the pv array\n",
    "vf_matrix = vf_calculator.build_ts_vf_matrix(pvarray)"
   ]
  },
  {
   "cell_type": "markdown",
   "metadata": {},
   "source": [
    "**Important remarks:**\n",
    "\n",
    "- the view factor matrix has shape ``[n_ts_surfaces + 1, n_ts_surfaces + 1, n_timestamps]``, where ``n_ts_surfaces`` is the number of timeseries surfaces in the PV array, and ``n_timestamps`` is the number of timestamps\n",
    "- the first 2 dimensions have value ``n_ts_surfaces`` **+ 1** because the view factors to the sky are also calculated, so the sky is considered like another surface in the mathematical problem"
   ]
  },
  {
   "cell_type": "code",
   "execution_count": 7,
   "metadata": {},
   "outputs": [
    {
     "name": "stdout",
     "output_type": "stream",
     "text": [
      "Number of dimensions: 3\n",
      "Shape of vf matrix: (24, 24, 1)\n"
     ]
    }
   ],
   "source": [
    "print(\"Number of dimensions: {}\".format(vf_matrix.ndim))\n",
    "print(\"Shape of vf matrix: {}\".format(vf_matrix.shape))"
   ]
  },
  {
   "cell_type": "markdown",
   "metadata": {},
   "source": [
    "Here is a function to help make sense of this"
   ]
  },
  {
   "cell_type": "code",
   "execution_count": 8,
   "metadata": {},
   "outputs": [],
   "source": [
    "def select_view_factor(i, j, vf_matrix):\n",
    "    \"Function to print the view factors\"\n",
    "    n = vf_matrix.shape[0] - 1\n",
    "    vf = vf_matrix[i, j, :]\n",
    "    # print the view factor\n",
    "    i = i if i < n else 'sky'\n",
    "    j = j if j < n else 'sky'\n",
    "    print('View factor from surface {} to surface {}: {}'.format(i, j, np.around(vf, decimals=2)))"
   ]
  },
  {
   "cell_type": "markdown",
   "metadata": {},
   "source": [
    "Let's print some of the view factor values, and check their meaning on a PV array plot with surface indices"
   ]
  },
  {
   "cell_type": "code",
   "execution_count": 9,
   "metadata": {},
   "outputs": [
    {
     "name": "stdout",
     "output_type": "stream",
     "text": [
      "View factor from surface 17 to surface 0: [0.4]\n",
      "View factor from surface 17 to surface 3: [0.05]\n",
      "View factor from surface 17 to surface 13: [0.]\n",
      "View factor from surface 21 to surface 3: [0.4]\n",
      "View factor from surface 15 to surface sky: [0.94]\n",
      "View factor from surface 19 to surface sky: [0.97]\n"
     ]
    }
   ],
   "source": [
    "# View factors from back of leftmost pv row\n",
    "select_view_factor(17, 0, vf_matrix)\n",
    "select_view_factor(17, 3, vf_matrix)\n",
    "select_view_factor(17, 13, vf_matrix)\n",
    "# View factors from back of rightmost pv row\n",
    "select_view_factor(21, 3, vf_matrix)\n",
    "# View factors from front of leftmost pv row\n",
    "select_view_factor(15, 23, vf_matrix)\n",
    "# View factors from front of rightmost pv row\n",
    "select_view_factor(19, 23, vf_matrix)"
   ]
  },
  {
   "cell_type": "markdown",
   "metadata": {},
   "source": [
    "Let's plot the PV array with the surface indices to understand visually what these numbers mean:"
   ]
  },
  {
   "cell_type": "code",
   "execution_count": 10,
   "metadata": {},
   "outputs": [
    {
     "data": {
      "image/png": "[encoded data removed]",
      "text/plain": [
       "<Figure size 720x288 with 1 Axes>"
      ]
     },
     "metadata": {
      "needs_background": "light"
     },
     "output_type": "display_data"
    }
   ],
   "source": [
    "# Plot pvarray shapely geometries\n",
    "f, ax = plt.subplots(figsize=(10, 4))\n",
    "pvarray.plot_at_idx(0, ax, with_surface_index=True)\n",
    "plt.show()"
   ]
  }
 ],
 "metadata": {
  "hide_input": false,
  "kernelspec": {
   "display_name": "pvfactors_py3",
   "language": "python",
   "name": "pvfactors_py3"
  },
  "language_info": {
   "codemirror_mode": {
    "name": "ipython",
    "version": 3
   },
   "file_extension": ".py",
   "mimetype": "text/x-python",
   "name": "python",
   "nbconvert_exporter": "python",
   "pygments_lexer": "ipython3",
   "version": "3.6.9"
  },
  "toc": {
   "base_numbering": 1,
   "nav_menu": {},
   "number_sections": true,
   "sideBar": true,
   "skip_h1_title": true,
   "title_cell": "Table of Contents",
   "title_sidebar": "Contents",
   "toc_cell": false,
   "toc_position": {},
   "toc_section_display": true,
   "toc_window_display": false
  },
  "varInspector": {
   "cols": {
    "lenName": 16,
    "lenType": 16,
    "lenVar": 40
   },
   "kernels_config": {
    "python": {
     "delete_cmd_postfix": "",
     "delete_cmd_prefix": "del ",
     "library": "var_list.py",
     "varRefreshCmd": "print(var_dic_list())"
    },
    "r": {
     "delete_cmd_postfix": ") ",
     "delete_cmd_prefix": "rm(",
     "library": "var_list.r",
     "varRefreshCmd": "cat(var_dic_list()) "
    }
   },
   "types_to_exclude": [
    "module",
    "function",
    "builtin_function_or_method",
    "instance",
    "_Feature"
   ],
   "window_display": false
  }
 },
 "nbformat": 4,
 "nbformat_minor": 1
}
