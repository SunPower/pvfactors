{
 "cells": [
  {
   "cell_type": "markdown",
   "metadata": {},
   "source": [
    "Calculate view factors\n",
    "=================="
   ]
  },
  {
   "cell_type": "markdown",
   "metadata": {},
   "source": [
    "In this section, we will learn how to:\n",
    "\n",
    "- calculate the view factor matrix from a PV array object\n",
    "- plot the pvarray with indices to visualize the meaning of the matrix\n",
    "\n",
    "Note: the following calculation steps are already implemented in the simulation engine ``PVEngine``, please refer to the following tutorials for running complete simulations."
   ]
  },
  {
   "cell_type": "markdown",
   "metadata": {},
   "source": [
    "Imports and settings"
   ]
  },
  {
   "cell_type": "code",
   "execution_count": 1,
   "metadata": {},
   "outputs": [],
   "source": [
    "# Import external libraries\n",
    "import matplotlib.pyplot as plt\n",
    "import numpy as np\n",
    "\n",
    "# Settings\n",
    "%matplotlib inline\n",
    "np.set_printoptions(precision=3)"
   ]
  },
  {
   "cell_type": "markdown",
   "metadata": {},
   "source": [
    "### Prepare PV array parameters"
   ]
  },
  {
   "cell_type": "code",
   "execution_count": 2,
   "metadata": {},
   "outputs": [],
   "source": [
    "pvarray_parameters = {\n",
    "    'n_pvrows': 2,            # number of pv rows\n",
    "    'pvrow_height': 1,        # height of pvrows (measured at center / torque tube)\n",
    "    'pvrow_width': 1,         # width of pvrows\n",
    "    'axis_azimuth': 0.,       # azimuth angle of rotation axis\n",
    "    'surface_tilt': 20.,      # tilt of the pv rows\n",
    "    'surface_azimuth': 90.,   # azimuth of the pv rows front surface\n",
    "    'solar_zenith': 40.,      # solar zenith angle\n",
    "    'solar_azimuth': 150.,    # solar azimuth angle\n",
    "    'gcr': 0.5,               # ground coverage ratio\n",
    "}"
   ]
  },
  {
   "cell_type": "markdown",
   "metadata": {},
   "source": [
    "### Create a PV array and required attributes"
   ]
  },
  {
   "cell_type": "markdown",
   "metadata": {},
   "source": [
    "Import the ``OrderedPVArray`` class and create a PV array object using the parameters above"
   ]
  },
  {
   "cell_type": "code",
   "execution_count": 3,
   "metadata": {},
   "outputs": [],
   "source": [
    "from pvfactors.geometry import OrderedPVArray\n",
    "\n",
    "pvarray = OrderedPVArray.transform_from_dict_of_scalars(pvarray_parameters)"
   ]
  },
  {
   "cell_type": "code",
   "execution_count": 4,
   "metadata": {},
   "outputs": [
    {
     "data": {
      "image/png": "[encoded data removed]",
      "text/plain": [
       "<Figure size 720x216 with 1 Axes>"
      ]
     },
     "metadata": {
      "needs_background": "light"
     },
     "output_type": "display_data"
    }
   ],
   "source": [
    "# Plot pvarray shapely geometries\n",
    "f, ax = plt.subplots(figsize=(10, 3))\n",
    "pvarray.plot(ax)\n",
    "plt.show()"
   ]
  },
  {
   "cell_type": "markdown",
   "metadata": {},
   "source": [
    "As discussed in the \"PV Array geometry introduction\" tutorial, the ground also has \"cut points\" to indicate the limits of what the PV row front and back sides can see."
   ]
  },
  {
   "cell_type": "markdown",
   "metadata": {},
   "source": [
    "### Intermediate steps: getting the view matrix"
   ]
  },
  {
   "cell_type": "markdown",
   "metadata": {},
   "source": [
    "In order to calculate the view factor matrix, we need to obtain a number of properties from the PV array object:\n",
    "\n",
    "- a dictionary where the keys are the surface indices, and values the surfaces themselves\n",
    "- the view matrix of the PV array\n",
    "- the obstruction matrix of the PV array\n",
    "- the list of pvrows in the PV array"
   ]
  },
  {
   "cell_type": "code",
   "execution_count": 5,
   "metadata": {},
   "outputs": [],
   "source": [
    "# Get geometry dictionary\n",
    "geom_dict = pvarray.dict_surfaces\n",
    "# Get view and obstruction matrices\n",
    "view_matrix = pvarray.view_matrix\n",
    "obstr_matrix = pvarray.obstr_matrix\n",
    "# Get list of pvrows\n",
    "list_pvrows = pvarray.pvrows"
   ]
  },
  {
   "cell_type": "markdown",
   "metadata": {},
   "source": [
    "The view and obstruction matrices are intermediate steps to calculate the final view factor matrix.\n",
    "\n",
    "- the view matrix defines the type of view between any surface of the PV array to any other surface\n",
    "- the obstruction matrix flags the index of a potentially obstructing PV row"
   ]
  },
  {
   "cell_type": "code",
   "execution_count": 6,
   "metadata": {},
   "outputs": [
    {
     "name": "stdout",
     "output_type": "stream",
     "text": [
      "[[ 0  0  0  0  0  0  0  0  7  0  7  1]\n",
      " [ 0  0  0  0  0  0  0  0  7  0  7  1]\n",
      " [ 0  0  0  0  0  0  0  0  7  0  7  1]\n",
      " [ 0  0  0  0  0  0  0  9  0  0  7  1]\n",
      " [ 0  0  0  0  0  0  0  9  0  9  0  1]\n",
      " [ 0  0  0  0  0  0  0  0  7  0  7  1]\n",
      " [ 0  0  0  0  0  0  0  0  7  0  7  1]\n",
      " [ 0  0  0  8  8  0  0  0  0  0 10  4]\n",
      " [ 6  6  6  0  0  6  6  0  0  0  0  5]\n",
      " [ 0  0  0  0  8  0  0  0  0  0  0  4]\n",
      " [ 6  6  6  6  0  6  6 10  0  0  0  5]\n",
      " [ 0  0  0  0  0  0  0  0  0  0  0  0]]\n"
     ]
    }
   ],
   "source": [
    "print(view_matrix)"
   ]
  },
  {
   "cell_type": "code",
   "execution_count": 7,
   "metadata": {},
   "outputs": [
    {
     "name": "stdout",
     "output_type": "stream",
     "text": [
      "[[None None None None None None None None None None 0 None]\n",
      " [None None None None None None None None None None 0 None]\n",
      " [None None None None None None None None None None 0 None]\n",
      " [None None None None None None None 1 None None 0 None]\n",
      " [None None None None None None None 1 None None None None]\n",
      " [None None None None None None None None None None 0 None]\n",
      " [None None None None None None None None None None 0 None]\n",
      " [None None None 1 1 None None None None None None None]\n",
      " [None None None None None None None None None None None None]\n",
      " [None None None None None None None None None None None None]\n",
      " [0 0 0 0 None 0 0 None None None None None]\n",
      " [None None None None None None None None None None None None]]\n"
     ]
    }
   ],
   "source": [
    "print(obstr_matrix)"
   ]
  },
  {
   "cell_type": "markdown",
   "metadata": {},
   "source": [
    "Now we have all we need to calculate the view factors."
   ]
  },
  {
   "cell_type": "markdown",
   "metadata": {},
   "source": [
    "### Calculating the view factor matrix"
   ]
  },
  {
   "cell_type": "markdown",
   "metadata": {},
   "source": [
    "View factors will be calculated using a view factor calculator, applied to the PV array object."
   ]
  },
  {
   "cell_type": "code",
   "execution_count": 8,
   "metadata": {},
   "outputs": [],
   "source": [
    "# import view factor calculator\n",
    "from pvfactors.viewfactors import VFCalculator\n",
    "# instantiate calculator\n",
    "vf_calculator = VFCalculator()"
   ]
  },
  {
   "cell_type": "code",
   "execution_count": 9,
   "metadata": {},
   "outputs": [],
   "source": [
    "# calculate view factor matrix of the pv array\n",
    "vf_matrix = vf_calculator.get_vf_matrix(geom_dict, view_matrix, obstr_matrix, list_pvrows)"
   ]
  },
  {
   "cell_type": "markdown",
   "metadata": {},
   "source": [
    "It is important to note that the view factor matrix has an additional row and column compared to the view matrix, because it calculates the view factors to the sky as well."
   ]
  },
  {
   "cell_type": "code",
   "execution_count": 10,
   "metadata": {},
   "outputs": [
    {
     "name": "stdout",
     "output_type": "stream",
     "text": [
      "[[0.    0.    0.    0.    0.    0.    0.    0.    0.003 0.    0.001 0.997]\n",
      " [0.    0.    0.    0.    0.    0.    0.    0.    0.268 0.    0.15  0.582]\n",
      " [0.    0.    0.    0.    0.    0.    0.    0.    0.003 0.    0.321 0.675]\n",
      " [0.    0.    0.    0.    0.    0.    0.    0.003 0.    0.    0.046 0.951]\n",
      " [0.    0.    0.    0.    0.    0.    0.    0.    0.    0.    0.    1.   ]\n",
      " [0.    0.    0.    0.    0.    0.    0.    0.    0.368 0.    0.055 0.577]\n",
      " [0.    0.    0.    0.    0.    0.    0.    0.    0.042 0.    0.368 0.59 ]\n",
      " [0.    0.    0.    0.005 0.015 0.    0.    0.    0.    0.    0.037 0.943]\n",
      " [0.276 0.246 0.002 0.    0.    0.398 0.046 0.    0.    0.    0.    0.032]\n",
      " [0.    0.    0.    0.    0.028 0.    0.    0.    0.    0.    0.    0.972]\n",
      " [0.054 0.137 0.201 0.093 0.    0.059 0.398 0.037 0.    0.    0.    0.02 ]\n",
      " [0.    0.    0.    0.    0.    0.    0.    0.    0.    0.    0.    0.   ]]\n"
     ]
    }
   ],
   "source": [
    "print(vf_matrix)"
   ]
  },
  {
   "cell_type": "markdown",
   "metadata": {},
   "source": [
    "Here is a function to help make sense of this"
   ]
  },
  {
   "cell_type": "code",
   "execution_count": 11,
   "metadata": {},
   "outputs": [],
   "source": [
    "def select_view_factor(i, j, vf_matrix):\n",
    "    \"Function to print the view factors\"\n",
    "    n = vf_matrix.shape[0] - 1\n",
    "    vf = vf_matrix[i, j]\n",
    "    # print the view factor\n",
    "    i = i if i < n else 'sky'\n",
    "    j = j if j < n else 'sky'\n",
    "    print('View factor from surface {} to surface {}: {}'.format(i, j, np.around(vf, decimals=2)))"
   ]
  },
  {
   "cell_type": "code",
   "execution_count": 12,
   "metadata": {},
   "outputs": [
    {
     "name": "stdout",
     "output_type": "stream",
     "text": [
      "View factor from surface 8 to surface 5: 0.4\n",
      "View factor from surface 8 to surface 6: 0.05\n",
      "View factor from surface 8 to surface 3: 0.0\n",
      "View factor from surface 10 to surface 6: 0.4\n",
      "View factor from surface 7 to surface sky: 0.94\n",
      "View factor from surface 9 to surface sky: 0.97\n"
     ]
    }
   ],
   "source": [
    "# View factors from back of leftmost pv row\n",
    "select_view_factor(8, 5, vf_matrix)\n",
    "select_view_factor(8, 6, vf_matrix)\n",
    "select_view_factor(8, 3, vf_matrix)\n",
    "# View factors from back of rightmost pv row\n",
    "select_view_factor(10, 6, vf_matrix)\n",
    "# View factors from front of leftmost pv row\n",
    "select_view_factor(7, 11, vf_matrix)\n",
    "# View factors from front of rightmost pv row\n",
    "select_view_factor(9, 11, vf_matrix)"
   ]
  },
  {
   "cell_type": "markdown",
   "metadata": {},
   "source": [
    "Let's plot the PV array with the surface indices to understand visually what these numbers mean:"
   ]
  },
  {
   "cell_type": "code",
   "execution_count": 13,
   "metadata": {},
   "outputs": [
    {
     "data": {
      "image/png": "[encoded data removed]",
      "text/plain": [
       "<Figure size 720x288 with 1 Axes>"
      ]
     },
     "metadata": {
      "needs_background": "light"
     },
     "output_type": "display_data"
    }
   ],
   "source": [
    "# Plot pvarray shapely geometries\n",
    "f, ax = plt.subplots(figsize=(10, 4))\n",
    "pvarray.plot(ax, with_index=True)\n",
    "plt.show()"
   ]
  },
  {
   "cell_type": "markdown",
   "metadata": {},
   "source": [
    "Note that the indices of the leftmost and rightmost ground surfaces are not shown in the plot above (respectively 0 and 4)."
   ]
  }
 ],
 "metadata": {
  "hide_input": false,
  "kernelspec": {
   "display_name": "pvfactors_py3",
   "language": "python",
   "name": "pvfactors_py3"
  },
  "language_info": {
   "codemirror_mode": {
    "name": "ipython",
    "version": 3
   },
   "file_extension": ".py",
   "mimetype": "text/x-python",
   "name": "python",
   "nbconvert_exporter": "python",
   "pygments_lexer": "ipython3",
   "version": "3.6.9"
  },
  "toc": {
   "base_numbering": 1,
   "nav_menu": {},
   "number_sections": true,
   "sideBar": true,
   "skip_h1_title": true,
   "title_cell": "Table of Contents",
   "title_sidebar": "Contents",
   "toc_cell": false,
   "toc_position": {},
   "toc_section_display": true,
   "toc_window_display": false
  },
  "varInspector": {
   "cols": {
    "lenName": 16,
    "lenType": 16,
    "lenVar": 40
   },
   "kernels_config": {
    "python": {
     "delete_cmd_postfix": "",
     "delete_cmd_prefix": "del ",
     "library": "var_list.py",
     "varRefreshCmd": "print(var_dic_list())"
    },
    "r": {
     "delete_cmd_postfix": ") ",
     "delete_cmd_prefix": "rm(",
     "library": "var_list.r",
     "varRefreshCmd": "cat(var_dic_list()) "
    }
   },
   "types_to_exclude": [
    "module",
    "function",
    "builtin_function_or_method",
    "instance",
    "_Feature"
   ],
   "window_display": false
  }
 },
 "nbformat": 4,
 "nbformat_minor": 1
}
