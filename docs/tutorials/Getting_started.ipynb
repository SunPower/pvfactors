{
 "cells": [
  {
   "cell_type": "markdown",
   "metadata": {},
   "source": [
    "Getting started\n",
    "============"
   ]
  },
  {
   "cell_type": "markdown",
   "metadata": {},
   "source": [
    "This is a quick overview of multiple capabilities of ``pvfactors``:\n",
    "\n",
    "- using the engine to run timeseries simulations\n",
    "- plot a PV array\n",
    "- inspect the results of a simulation using a PV array object\n",
    "- inspect the results of a simulation using a report function"
   ]
  },
  {
   "cell_type": "markdown",
   "metadata": {},
   "source": [
    "Imports and settings"
   ]
  },
  {
   "cell_type": "code",
   "execution_count": 1,
   "metadata": {},
   "outputs": [],
   "source": [
    "# Import external libraries\n",
    "import numpy as np\n",
    "import matplotlib.pyplot as plt\n",
    "from datetime import datetime\n",
    "import pandas as pd\n",
    "\n",
    "# Settings\n",
    "% matplotlib inline\n",
    "np.set_printoptions(precision=3, linewidth=300)"
   ]
  },
  {
   "cell_type": "markdown",
   "metadata": {},
   "source": [
    "### Get timeseries inputs"
   ]
  },
  {
   "cell_type": "code",
   "execution_count": 2,
   "metadata": {},
   "outputs": [
    {
     "data": {
      "text/html": [
       "<div>\n",
       "<style scoped>\n",
       "    .dataframe tbody tr th:only-of-type {\n",
       "        vertical-align: middle;\n",
       "    }\n",
       "\n",
       "    .dataframe tbody tr th {\n",
       "        vertical-align: top;\n",
       "    }\n",
       "\n",
       "    .dataframe thead th {\n",
       "        text-align: right;\n",
       "    }\n",
       "</style>\n",
       "<table border=\"1\" class=\"dataframe\">\n",
       "  <thead>\n",
       "    <tr style=\"text-align: right;\">\n",
       "      <th></th>\n",
       "      <th>albedo</th>\n",
       "      <th>dhi</th>\n",
       "      <th>dni</th>\n",
       "      <th>solar_azimuth</th>\n",
       "      <th>solar_zenith</th>\n",
       "      <th>surface_azimuth</th>\n",
       "      <th>surface_tilt</th>\n",
       "    </tr>\n",
       "  </thead>\n",
       "  <tbody>\n",
       "    <tr>\n",
       "      <th>2017-08-31 11:00:00</th>\n",
       "      <td>0.2</td>\n",
       "      <td>50.0</td>\n",
       "      <td>1000.0</td>\n",
       "      <td>110.0</td>\n",
       "      <td>20.0</td>\n",
       "      <td>90.0</td>\n",
       "      <td>10.0</td>\n",
       "    </tr>\n",
       "    <tr>\n",
       "      <th>2017-08-31 15:00:00</th>\n",
       "      <td>0.2</td>\n",
       "      <td>500.0</td>\n",
       "      <td>300.0</td>\n",
       "      <td>250.0</td>\n",
       "      <td>50.0</td>\n",
       "      <td>270.0</td>\n",
       "      <td>20.0</td>\n",
       "    </tr>\n",
       "  </tbody>\n",
       "</table>\n",
       "</div>"
      ],
      "text/plain": [
       "                     albedo    dhi     dni  solar_azimuth  solar_zenith  \\\n",
       "2017-08-31 11:00:00     0.2   50.0  1000.0          110.0          20.0   \n",
       "2017-08-31 15:00:00     0.2  500.0   300.0          250.0          50.0   \n",
       "\n",
       "                     surface_azimuth  surface_tilt  \n",
       "2017-08-31 11:00:00             90.0          10.0  \n",
       "2017-08-31 15:00:00            270.0          20.0  "
      ]
     },
     "execution_count": 2,
     "metadata": {},
     "output_type": "execute_result"
    }
   ],
   "source": [
    "df_inputs = pd.DataFrame(\n",
    "    {'solar_zenith': [20., 50.],\n",
    "     'solar_azimuth': [110., 250.],\n",
    "     'surface_tilt': [10., 20.],\n",
    "     'surface_azimuth': [90., 270.],\n",
    "     'dni': [1000., 300.],\n",
    "     'dhi': [50., 500.],\n",
    "     'albedo': [0.2, 0.2]}, \n",
    "    index=[datetime(2017, 8, 31, 11), datetime(2017, 8, 31, 15)]\n",
    ")\n",
    "df_inputs"
   ]
  },
  {
   "cell_type": "markdown",
   "metadata": {},
   "source": [
    "### Prepare PV array parameters"
   ]
  },
  {
   "cell_type": "code",
   "execution_count": 3,
   "metadata": {},
   "outputs": [],
   "source": [
    "pvarray_parameters = {\n",
    "    'n_pvrows': 3,            # number of pv rows\n",
    "    'pvrow_height': 1,        # height of pvrows (measured at center / torque tube)\n",
    "    'pvrow_width': 1,         # width of pvrows\n",
    "    'axis_azimuth': 0.,       # azimuth angle of rotation axis\n",
    "    'gcr': 0.4,               # ground coverage ratio\n",
    "    'rho_front_pvrow': 0.01,  # pv row front surface reflectivity\n",
    "    'rho_back_pvrow': 0.03    # pv row back surface reflectivity\n",
    "}"
   ]
  },
  {
   "cell_type": "markdown",
   "metadata": {},
   "source": [
    "### Run simulations with pvfactors"
   ]
  },
  {
   "cell_type": "markdown",
   "metadata": {},
   "source": [
    "Use the ``PVEngine`` to run simulations"
   ]
  },
  {
   "cell_type": "code",
   "execution_count": 4,
   "metadata": {},
   "outputs": [],
   "source": [
    "from pvfactors.engine import PVEngine\n",
    "\n",
    "# Create engine\n",
    "engine = PVEngine(pvarray_parameters)\n",
    "# Fit engine to data\n",
    "engine.fit(df_inputs.index, df_inputs.dni, df_inputs.dhi, \n",
    "           df_inputs.solar_zenith, df_inputs.solar_azimuth, \n",
    "           df_inputs.surface_tilt, df_inputs.surface_azimuth, \n",
    "           df_inputs.albedo)"
   ]
  },
  {
   "cell_type": "markdown",
   "metadata": {},
   "source": [
    "The user can run a simulation for a single timestep and plot the returned PV array"
   ]
  },
  {
   "cell_type": "code",
   "execution_count": 5,
   "metadata": {},
   "outputs": [
    {
     "data": {
      "image/png": "[encoded data removed]",
      "text/plain": [
       "<Figure size 720x216 with 1 Axes>"
      ]
     },
     "metadata": {},
     "output_type": "display_data"
    }
   ],
   "source": [
    "# Get pvarray at given timestamp\n",
    "pvarray = engine.run_timestep(idx=1)\n",
    "\n",
    "# Plot pvarray shapely geometries\n",
    "f, ax = plt.subplots(figsize=(10, 3))\n",
    "pvarray.plot(ax)\n",
    "plt.show()"
   ]
  },
  {
   "cell_type": "markdown",
   "metadata": {},
   "source": [
    "The user can inspect the results very easily thanks to the simple geometry API"
   ]
  },
  {
   "cell_type": "code",
   "execution_count": 6,
   "metadata": {},
   "outputs": [
    {
     "name": "stdout",
     "output_type": "stream",
     "text": [
      "Incident irradiance on front surface of middle pv row: 811.659035577 W/m2\n",
      "Reflected irradiance on back surface of left pv row: 90.2456106239 W/m2\n",
      "Isotropic irradiance on back surface of right pv row: 9.28395608072 W/m2\n"
     ]
    }
   ],
   "source": [
    "print(\"Incident irradiance on front surface of middle pv row: {} W/m2\"\n",
    "      .format(pvarray.pvrows[1].front.get_param_weighted('qinc')))\n",
    "print(\"Reflected irradiance on back surface of left pv row: {} W/m2\"\n",
    "      .format(pvarray.pvrows[0].back.get_param_weighted('reflection')))\n",
    "print(\"Isotropic irradiance on back surface of right pv row: {} W/m2\"\n",
    "      .format(pvarray.pvrows[2].back.get_param_weighted('isotropic')))"
   ]
  },
  {
   "cell_type": "markdown",
   "metadata": {},
   "source": [
    "The users can also run simulations for all timestamps, and obtain a \"report\" that will look like whatever the users want, and which will rely on the simple geometry API shown above.\n",
    "Here is an example:"
   ]
  },
  {
   "cell_type": "code",
   "execution_count": 7,
   "metadata": {},
   "outputs": [
    {
     "name": "stderr",
     "output_type": "stream",
     "text": [
      "100%|██████████| 2/2 [00:00<00:00, 28.93it/s]\n"
     ]
    },
    {
     "data": {
      "text/html": [
       "<div>\n",
       "<style scoped>\n",
       "    .dataframe tbody tr th:only-of-type {\n",
       "        vertical-align: middle;\n",
       "    }\n",
       "\n",
       "    .dataframe tbody tr th {\n",
       "        vertical-align: top;\n",
       "    }\n",
       "\n",
       "    .dataframe thead th {\n",
       "        text-align: right;\n",
       "    }\n",
       "</style>\n",
       "<table border=\"1\" class=\"dataframe\">\n",
       "  <thead>\n",
       "    <tr style=\"text-align: right;\">\n",
       "      <th></th>\n",
       "      <th>qinc_back</th>\n",
       "      <th>iso_back</th>\n",
       "      <th>qinc_front</th>\n",
       "      <th>iso_front</th>\n",
       "    </tr>\n",
       "  </thead>\n",
       "  <tbody>\n",
       "    <tr>\n",
       "      <th>2017-08-31 11:00:00</th>\n",
       "      <td>106.627832</td>\n",
       "      <td>0.115792</td>\n",
       "      <td>1034.967753</td>\n",
       "      <td>20.848345</td>\n",
       "    </tr>\n",
       "    <tr>\n",
       "      <th>2017-08-31 15:00:00</th>\n",
       "      <td>85.535537</td>\n",
       "      <td>6.304878</td>\n",
       "      <td>811.659036</td>\n",
       "      <td>276.181750</td>\n",
       "    </tr>\n",
       "  </tbody>\n",
       "</table>\n",
       "</div>"
      ],
      "text/plain": [
       "                      qinc_back  iso_back   qinc_front   iso_front\n",
       "2017-08-31 11:00:00  106.627832  0.115792  1034.967753   20.848345\n",
       "2017-08-31 15:00:00   85.535537  6.304878   811.659036  276.181750"
      ]
     },
     "execution_count": 7,
     "metadata": {},
     "output_type": "execute_result"
    }
   ],
   "source": [
    "# Create a function that will build a report\n",
    "from pvfactors.report import example_fn_build_report\n",
    "\n",
    "# Run full simulation\n",
    "report = engine.run_all_timesteps(fn_build_report=example_fn_build_report)\n",
    "\n",
    "# Print results (report is defined by report function passed by user)\n",
    "df_report = pd.DataFrame(report, index=df_inputs.index)\n",
    "df_report"
   ]
  }
 ],
 "metadata": {
  "kernelspec": {
   "display_name": "py2_pvfactors",
   "language": "python",
   "name": "py2_pvfactors"
  },
  "language_info": {
   "codemirror_mode": {
    "name": "ipython",
    "version": 2
   },
   "file_extension": ".py",
   "mimetype": "text/x-python",
   "name": "python",
   "nbconvert_exporter": "python",
   "pygments_lexer": "ipython2",
   "version": "2.7.14"
  }
 },
 "nbformat": 4,
 "nbformat_minor": 1
}
