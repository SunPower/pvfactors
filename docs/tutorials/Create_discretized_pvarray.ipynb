{
 "cells": [
  {
   "cell_type": "markdown",
   "metadata": {},
   "source": [
    "Discretize PV row sides and indexing\n",
    "=============================="
   ]
  },
  {
   "cell_type": "markdown",
   "metadata": {},
   "source": [
    "In this section, we will learn how to:\n",
    "\n",
    "- create a PV array with discretized PV row sides\n",
    "- understand the indices of the timeseries surfaces of a PV array\n",
    "- plot a PV array with indices shown on plot"
   ]
  },
  {
   "cell_type": "markdown",
   "metadata": {},
   "source": [
    "Imports and settings"
   ]
  },
  {
   "cell_type": "code",
   "execution_count": 1,
   "metadata": {},
   "outputs": [],
   "source": [
    "# Import external libraries\n",
    "import matplotlib.pyplot as plt\n",
    "\n",
    "# Settings\n",
    "%matplotlib inline"
   ]
  },
  {
   "cell_type": "markdown",
   "metadata": {},
   "source": [
    "### Prepare PV array parameters"
   ]
  },
  {
   "cell_type": "code",
   "execution_count": 2,
   "metadata": {},
   "outputs": [],
   "source": [
    "pvarray_parameters = {\n",
    "    'n_pvrows': 3,            # number of pv rows\n",
    "    'pvrow_height': 1,        # height of pvrows (measured at center / torque tube)\n",
    "    'pvrow_width': 1,         # width of pvrows\n",
    "    'axis_azimuth': 0.,       # azimuth angle of rotation axis\n",
    "    'surface_tilt': 20.,      # tilt of the pv rows\n",
    "    'surface_azimuth': 270.,   # azimuth of the pv rows front surface\n",
    "    'solar_zenith': 40.,      # solar zenith angle\n",
    "    'solar_azimuth': 150.,    # solar azimuth angle\n",
    "    'gcr': 0.5,               # ground coverage ratio\n",
    "}"
   ]
  },
  {
   "cell_type": "markdown",
   "metadata": {},
   "source": [
    "### Create discretization scheme"
   ]
  },
  {
   "cell_type": "code",
   "execution_count": 3,
   "metadata": {},
   "outputs": [],
   "source": [
    "discretization = {'cut':{\n",
    "    0: {'back': 5},  # discretize the back side of the leftmost PV row into 5 segments\n",
    "    1: {'front': 3}  # discretize the front side of the center PV row into 3 segments\n",
    "}}\n",
    "pvarray_parameters.update(discretization)"
   ]
  },
  {
   "cell_type": "markdown",
   "metadata": {},
   "source": [
    "### Create a PV array"
   ]
  },
  {
   "cell_type": "markdown",
   "metadata": {},
   "source": [
    "Import the ``OrderedPVArray`` class and create a PV array object using the parameters above"
   ]
  },
  {
   "cell_type": "code",
   "execution_count": 4,
   "metadata": {},
   "outputs": [],
   "source": [
    "from pvfactors.geometry import OrderedPVArray\n",
    "# Create pv array\n",
    "pvarray = OrderedPVArray.fit_from_dict_of_scalars(pvarray_parameters)"
   ]
  },
  {
   "cell_type": "markdown",
   "metadata": {},
   "source": [
    "Plot the PV array at index ``0``"
   ]
  },
  {
   "cell_type": "code",
   "execution_count": 5,
   "metadata": {},
   "outputs": [
    {
     "data": {
      "image/png": "[encoded data removed]",
      "text/plain": [
       "<Figure size 720x216 with 1 Axes>"
      ]
     },
     "metadata": {
      "needs_background": "light"
     },
     "output_type": "display_data"
    }
   ],
   "source": [
    "# Plot pvarray shapely geometries\n",
    "f, ax = plt.subplots(figsize=(10, 3))\n",
    "pvarray.plot_at_idx(0, ax)\n",
    "plt.show()"
   ]
  },
  {
   "cell_type": "markdown",
   "metadata": {},
   "source": [
    "As we can see, there is some discretization on the leftmost and the center PV rows.  \n",
    "We can check that it was correctly done using the ``pvarray`` object."
   ]
  },
  {
   "cell_type": "code",
   "execution_count": 6,
   "metadata": {},
   "outputs": [
    {
     "name": "stdout",
     "output_type": "stream",
     "text": [
      "Back side of leftmost PV row has 5 segments\n"
     ]
    }
   ],
   "source": [
    "pvrow_left = pvarray.ts_pvrows[0]\n",
    "n_segments = len(pvrow_left.back.list_segments)\n",
    "print(\"Back side of leftmost PV row has {} segments\".format(n_segments))"
   ]
  },
  {
   "cell_type": "code",
   "execution_count": 7,
   "metadata": {},
   "outputs": [
    {
     "name": "stdout",
     "output_type": "stream",
     "text": [
      "Front side of center PV row has 3 segments\n"
     ]
    }
   ],
   "source": [
    "pvrow_center = pvarray.ts_pvrows[1]\n",
    "n_segments = len(pvrow_center.front.list_segments)\n",
    "print(\"Front side of center PV row has {} segments\".format(n_segments))"
   ]
  },
  {
   "cell_type": "markdown",
   "metadata": {},
   "source": [
    "### Indexing the timeseries surfaces in a PV array"
   ]
  },
  {
   "cell_type": "markdown",
   "metadata": {},
   "source": [
    "In order to perform some calculations on PV array surfaces, it is often important to index them.  \n",
    "``pvfactors`` takes care of this."
   ]
  },
  {
   "cell_type": "markdown",
   "metadata": {},
   "source": [
    "We can for instance check the index of the timeseries surfaces on the front side of the center PV row"
   ]
  },
  {
   "cell_type": "code",
   "execution_count": 8,
   "metadata": {},
   "outputs": [
    {
     "name": "stdout",
     "output_type": "stream",
     "text": [
      "Indices of surfaces on front side of center PV row\n",
      "... surface index: 40\n",
      "... surface index: 41\n",
      "... surface index: 42\n",
      "... surface index: 43\n",
      "... surface index: 44\n",
      "... surface index: 45\n"
     ]
    }
   ],
   "source": [
    "# List some indices\n",
    "ts_surface_list = pvrow_center.front.all_ts_surfaces\n",
    "print(\"Indices of surfaces on front side of center PV row\")\n",
    "for ts_surface in ts_surface_list:\n",
    "    index = ts_surface.index\n",
    "    print(\"... surface index: {}\".format(index))"
   ]
  },
  {
   "cell_type": "markdown",
   "metadata": {},
   "source": [
    "Intuitively, one could have expected only 3 timeseries surfaces because that's what the previous plot at index ``0`` was showing.\n",
    "But it is important to understand that ALL timeseries surfaces are created at PV array fitting time, even the ones that don't exist for the given timestamps.\n",
    "So in this example: \n",
    "- we have 3 illuminated timeseries surfaces, which do exist at timestamp ``0``\n",
    "- and 3 shaded timeseries surfaces, which do NOT exist at timestamp ``0`` (so they have zero length).\n",
    "\n",
    "Let's check that."
   ]
  },
  {
   "cell_type": "code",
   "execution_count": 9,
   "metadata": {},
   "outputs": [
    {
     "name": "stdout",
     "output_type": "stream",
     "text": [
      "Surface with index: '40' has shading status 'False' and length [0.33333333] m\n",
      "Surface with index: '41' has shading status 'True' and length [0.] m\n",
      "Surface with index: '42' has shading status 'False' and length [0.33333333] m\n",
      "Surface with index: '43' has shading status 'True' and length [0.] m\n",
      "Surface with index: '44' has shading status 'False' and length [0.33333333] m\n",
      "Surface with index: '45' has shading status 'True' and length [0.] m\n"
     ]
    }
   ],
   "source": [
    "for ts_surface in ts_surface_list:\n",
    "    index = ts_surface.index\n",
    "    shaded = ts_surface.shaded\n",
    "    length = ts_surface.length\n",
    "    print(\"Surface with index: '{}' has shading status '{}' and length {} m\".format(index, shaded, length))"
   ]
  },
  {
   "cell_type": "markdown",
   "metadata": {},
   "source": [
    "As expected, all shaded timeseries surfaces on the front side of the PV row have length zero."
   ]
  },
  {
   "cell_type": "markdown",
   "metadata": {},
   "source": [
    "### Plot PV array with indices"
   ]
  },
  {
   "cell_type": "markdown",
   "metadata": {},
   "source": [
    "It is possible also to visualize the PV surface indices of all the non-zero surfaces when plotting a PV array, for a given timestamp (here at the first timestamp, so ``0``)."
   ]
  },
  {
   "cell_type": "code",
   "execution_count": 10,
   "metadata": {},
   "outputs": [
    {
     "data": {
      "image/png": "[encoded data removed]",
      "text/plain": [
       "<Figure size 720x288 with 1 Axes>"
      ]
     },
     "metadata": {
      "needs_background": "light"
     },
     "output_type": "display_data"
    }
   ],
   "source": [
    "# Plot pvarray shapely geometries with surface indices\n",
    "f, ax = plt.subplots(figsize=(10, 4))\n",
    "pvarray.plot_at_idx(0, ax, with_surface_index=True)\n",
    "ax.set_xlim(-3, 5)\n",
    "plt.show()"
   ]
  },
  {
   "cell_type": "markdown",
   "metadata": {},
   "source": [
    "As shown above, the surfaces on the front side of the center PV row have indices 40, 42, and 44."
   ]
  }
 ],
 "metadata": {
  "hide_input": false,
  "kernelspec": {
   "display_name": "pvfactors_py3",
   "language": "python",
   "name": "pvfactors_py3"
  },
  "language_info": {
   "codemirror_mode": {
    "name": "ipython",
    "version": 3
   },
   "file_extension": ".py",
   "mimetype": "text/x-python",
   "name": "python",
   "nbconvert_exporter": "python",
   "pygments_lexer": "ipython3",
   "version": "3.6.9"
  },
  "toc": {
   "base_numbering": 1,
   "nav_menu": {},
   "number_sections": true,
   "sideBar": true,
   "skip_h1_title": true,
   "title_cell": "Table of Contents",
   "title_sidebar": "Contents",
   "toc_cell": false,
   "toc_position": {},
   "toc_section_display": true,
   "toc_window_display": false
  },
  "varInspector": {
   "cols": {
    "lenName": 16,
    "lenType": 16,
    "lenVar": 40
   },
   "kernels_config": {
    "python": {
     "delete_cmd_postfix": "",
     "delete_cmd_prefix": "del ",
     "library": "var_list.py",
     "varRefreshCmd": "print(var_dic_list())"
    },
    "r": {
     "delete_cmd_postfix": ") ",
     "delete_cmd_prefix": "rm(",
     "library": "var_list.r",
     "varRefreshCmd": "cat(var_dic_list()) "
    }
   },
   "types_to_exclude": [
    "module",
    "function",
    "builtin_function_or_method",
    "instance",
    "_Feature"
   ],
   "window_display": false
  }
 },
 "nbformat": 4,
 "nbformat_minor": 1
}
